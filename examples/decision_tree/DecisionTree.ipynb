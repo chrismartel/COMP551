{
 "cells": [
  {
   "cell_type": "markdown",
   "id": "5482470c",
   "metadata": {},
   "source": [
    "# Decision Tree Classifier Algorithm\n",
    "\n",
    "In this code, we will implement a decision tree algorithm from scratch. First we will define a data structure to represent the nodes. Then, we implement a function to find the best test for a node based on a cost function. We start from the root node and call the function recursively until we reach a max depth."
   ]
  },
  {
   "cell_type": "markdown",
   "id": "f1146aea",
   "metadata": {},
   "source": [
    "## Initialization"
   ]
  },
  {
   "cell_type": "code",
   "execution_count": 106,
   "id": "fd12154a",
   "metadata": {},
   "outputs": [],
   "source": [
    "import numpy as np\n",
    "%matplotlib inline\n",
    "import matplotlib.pyplot as plt\n",
    "from IPython.core.debugger import set_trace\n",
    "np.random.seed(1234)"
   ]
  },
  {
   "cell_type": "markdown",
   "id": "4f2a3bf2",
   "metadata": {},
   "source": [
    "## Data Structure\n",
    "\n",
    "We use a binary tree to assign inforation to the nodes.\n",
    "* data indices: data indices which are in the region defined by that node\n",
    "* split_feature: the feature used to split the node\n",
    "* split_value: the value of the feature used to split the node\n",
    "* left/right: the left and right nodes\n",
    "* depth: depth of tree (used to stop recursion at some point)\n",
    "* num_classes: the number of classes (C)\n",
    "* data: the data (x)\n",
    "* labels: the labels (y)\n",
    "* class_prob: the probability of each class in the region"
   ]
  },
  {
   "cell_type": "code",
   "execution_count": 107,
   "id": "5ed03244",
   "metadata": {},
   "outputs": [],
   "source": [
    "class Node:\n",
    "    def __init__(self, data_indices, parent):\n",
    "        self.data_indices = data_indices\n",
    "        self.left = None\n",
    "        self.right = None\n",
    "        self.split_feature = None\n",
    "        self.split_value = None\n",
    "        \n",
    "        if parent:\n",
    "            self.depth = parent.depth + 1\n",
    "            self.num_classes = parent.num_classes\n",
    "            self.data = parent.data\n",
    "            self.labels = parent.labels\n",
    "            \n",
    "            # count the number of each class among the data indices of the region\n",
    "            # ex: [23, 13, 14]\n",
    "            # the class probability is each class count divided by total in region\n",
    "            class_prob = np.bincount(self.labels[data_indices], minlength=self.num_classes)\n",
    "            self.class_prob = class_prob / np.sum(class_prob)"
   ]
  },
  {
   "cell_type": "markdown",
   "id": "bfed6a69",
   "metadata": {},
   "source": [
    "## Cost Functions\n",
    "\n",
    "* Misclassification Rate\n",
    "* Entropy Cost\n",
    "* Gini Index"
   ]
  },
  {
   "cell_type": "code",
   "execution_count": 108,
   "id": "31d1b5d1",
   "metadata": {},
   "outputs": [],
   "source": [
    "def cost_misclassification(labels):\n",
    "    '''Compute the highest error prediction rate of any class'''\n",
    "    counts = np.bincount(labels)\n",
    "    class_probs = counts / np.sum(counts)\n",
    "    return 1- np.max(class_probs)\n",
    "\n",
    "def cost_entropy(labels):\n",
    "    '''Compute the entropy of the region.\n",
    "       Expression for entropy -\\sigma p(x)log[p(x)]'''\n",
    "    class_probs = np.bincount(labels) / len(labels)\n",
    "    # remove 0 probabilities\n",
    "    class_probs = class_probs[class_probs > 0]\n",
    "    return -np.sum(class_probs * np.log(class_probs))\n",
    "\n",
    "def cost_gini_index(labels):\n",
    "    '''Compute the Gini Index of the region.\n",
    "       Expression for gini index 1-\\sigma p(x)^2'''\n",
    "    class_probs = np.bincount(labels) / len(labels)\n",
    "    return 1 - np.sum(np.square(class_probs)) "
   ]
  },
  {
   "cell_type": "markdown",
   "id": "8fb3d0f6",
   "metadata": {},
   "source": [
    "## Greedy Splitting of a Node\n",
    "\n",
    "We  consider all possible feature, value combinations for splitting the data of the node. The split that produces the lower cost is returned."
   ]
  },
  {
   "cell_type": "code",
   "execution_count": 109,
   "id": "2f01548b",
   "metadata": {},
   "outputs": [],
   "source": [
    "def greedy_test(node, cost_fn):\n",
    "    best_cost = np.inf\n",
    "    best_feature, best_value = None, None\n",
    "    num_instances, num_features = node.data.shape\n",
    "\n",
    "    # The test split values are the average of two consecutive sorted feature values.\n",
    "    # ex: if our sorted data for one feature is [1,3,7,10] the test split values will be\n",
    "    #     [2, 5, 8.5].\n",
    "\n",
    "    # Sort the data by row\n",
    "    # ex: [[23,4,10],   becomes  [[2,1,2],\n",
    "    #      [2,45,7],              [23,4,7],\n",
    "    #      [44,1,2]]              [44,45,10]]\n",
    "    data_sorted = np.sort(node.data[node.data_indices], axis=0)\n",
    "\n",
    "    # get in-between averages\n",
    "    # ex: a = [1,2,3,4]\n",
    "    # a[1:] --> [2,3,4]\n",
    "    # a[:-1] --> [1,2,3]\n",
    "    # test_candidates = [1.5, 2.5, 3.5]\n",
    "    test_candidates = (data_sorted[1:] + data_sorted[:-1]) / 2.\n",
    "\n",
    "    # Test each feature\n",
    "    for f in range(num_features):\n",
    "        data_f = node.data[node.data_indices, f]\n",
    "        # Test all test values per feature\n",
    "        for test in test_candidates[:,f]:\n",
    "            # split the data according to the test value\n",
    "            # left indices = indices of the data where data_f < test\n",
    "            left_indices = node.data_indices[data_f <= test]\n",
    "            right_indices = node.data_indices[data_f > test]\n",
    "\n",
    "            if len(left_indices) == 0 or len(right_indices) == 0:\n",
    "                continue\n",
    "\n",
    "            # compute the left and right cost\n",
    "            left_cost = cost_fn(node.labels[left_indices])\n",
    "            right_cost = cost_fn(node.labels[right_indices])\n",
    "\n",
    "            # compute the weighted total cost\n",
    "            num_left = left_indices.shape[0]\n",
    "            num_right = right_indices.shape[0]\n",
    "\n",
    "            total_cost = (num_left * left_cost + num_right * right_cost) / num_instances\n",
    "\n",
    "            if total_cost < best_cost:\n",
    "                best_cost = total_cost\n",
    "                best_feature = f\n",
    "                best_value = test\n",
    "    return best_cost, best_feature, best_value      "
   ]
  },
  {
   "cell_type": "markdown",
   "id": "720a16f7",
   "metadata": {},
   "source": [
    "## Implement the Classifier\n",
    "\n",
    "When to stop splitting:\n",
    "\n",
    "* When there are not enough points under the current node (min_leaf_instances)\n",
    "* When we reach the maximum depth (max_depth)\n",
    "* If the decrease in the cost is negligible"
   ]
  },
  {
   "cell_type": "code",
   "execution_count": 110,
   "id": "fce6cdea",
   "metadata": {},
   "outputs": [],
   "source": [
    "class DecisionTree:\n",
    "    def __init__(self, min_leaf_instances=1, max_depth=3, minimal_cost_decrease=0.05, cost_fn=cost_misclassification, num_classes=None):\n",
    "        self.min_leaf_instances = min_leaf_instances         # minimal points under the current node\n",
    "        self.max_depth = max_depth                           # max tree depth\n",
    "        self.minimal_cost_decrease = minimal_cost_decrease   # minimal decrease in cost\n",
    "        self.cost_fn = cost_fn                               # cost function to use\n",
    "        self.num_classes = num_classes                       # number of classes\n",
    "        self.root = None                                     # root of the decision tree\n",
    "        \n",
    "    def fit(self, data, labels):\n",
    "        pass\n",
    "    \n",
    "    def predict(self, data_test):\n",
    "        pass"
   ]
  },
  {
   "cell_type": "markdown",
   "id": "d381451f",
   "metadata": {},
   "source": [
    "## Fit\n",
    "\n",
    "The fit is first called on the root node. The best test split is found and the method is called recursively on the left and right nodes until the max_depth or until the number of instances is lower than the minimum instances per leaf.\n"
   ]
  },
  {
   "cell_type": "code",
   "execution_count": 111,
   "id": "31d264a9",
   "metadata": {},
   "outputs": [],
   "source": [
    "def fit(self, data, labels):\n",
    "    ''' data: number of train instances x number of features\n",
    "        labels: number of train instances x 1'''\n",
    "    self.data = data\n",
    "    self.labels = labels\n",
    "    # INITIALIZE ROOT\n",
    "    # initialize the number of classes for the root node\n",
    "    if self.num_classes is None:\n",
    "        self.num_classes = np.max(labels) + 1\n",
    "        \n",
    "    #below are initialization of the root of the decision tree\n",
    "    # data indices: [0,1,2,3,...,number of instances - 1]\n",
    "    # parent: None\n",
    "    self.root = Node(np.arange(data.shape[0]), None)\n",
    "    self.root.data = data\n",
    "    self.root.labels = labels\n",
    "    self.root.num_classes = self.num_classes\n",
    "    self.root.depth = 0\n",
    "    #to recursively build the rest of the tree\n",
    "    self._fit_tree(self.root)\n",
    "    return self\n",
    "\n",
    "def _fit_tree(self, node):\n",
    "    \n",
    "    # STOP RECURSION\n",
    "    #This gives the condition for termination of the recursion resulting in a leaf node\n",
    "    if node.depth == self.max_depth or len(node.data_indices) <= self.min_leaf_instances:\n",
    "        return\n",
    "    # GREEDY TEST\n",
    "    #greedily select the best test by minimizing the cost\n",
    "    cost, split_feature, split_value = greedy_test(node, self.cost_fn)\n",
    "    \n",
    "    #if the cost returned is infinity it means that it is not possible to split the node and hence terminate\n",
    "    if np.isinf(cost):\n",
    "        return\n",
    "    \n",
    "    # print(f'best feature: {split_feature}, value {split_value}, cost {cost}')\n",
    "    \n",
    "    #to get a boolean array suggesting which data indices corresponding to this node are in the left of the split\n",
    "    test = node.data[node.data_indices,split_feature] <= split_value\n",
    "    #store the split feature and value of the node\n",
    "    node.split_feature = split_feature\n",
    "    node.split_value = split_value\n",
    "    \n",
    "    #define new nodes which are going to be the left and right child of the present node\n",
    "    left = Node(node.data_indices[test], node)\n",
    "    right = Node(node.data_indices[np.logical_not(test)], node)\n",
    "    \n",
    "    #recursive call to the _fit_tree()\n",
    "    self._fit_tree(left)\n",
    "    self._fit_tree(right)\n",
    "    \n",
    "    #assign the left and right child to present child\n",
    "    node.left = left\n",
    "    node.right = right\n",
    "\n",
    "DecisionTree.fit = fit\n",
    "DecisionTree._fit_tree = _fit_tree"
   ]
  },
  {
   "cell_type": "markdown",
   "id": "d05f84c2",
   "metadata": {},
   "source": [
    "## Predict\n",
    "\n",
    "For a new instance, we start at the root of the decision tree and we go down every feature until we reach a leaf node. The class probabilities of the leaf node are returned."
   ]
  },
  {
   "cell_type": "code",
   "execution_count": 112,
   "id": "e2951ca0",
   "metadata": {},
   "outputs": [],
   "source": [
    "def predict(self, data_test):\n",
    "    class_probs = np.zeros((data_test.shape[0], self.num_classes))\n",
    "    # n: index\n",
    "    # x: data\n",
    "    for n, x in enumerate(data_test):\n",
    "        node = self.root\n",
    "        while node.left:\n",
    "            if x[node.split_feature] <= node.split_value:\n",
    "                node = node.left\n",
    "            else:\n",
    "                node = node.right\n",
    "        class_probs[n,:] = node.class_prob\n",
    "    return class_probs\n",
    "\n",
    "DecisionTree.predict = predict"
   ]
  },
  {
   "cell_type": "markdown",
   "id": "283d3ca5",
   "metadata": {},
   "source": [
    "## Visualization"
   ]
  },
  {
   "cell_type": "code",
   "execution_count": 113,
   "id": "ba561d7f",
   "metadata": {},
   "outputs": [],
   "source": [
    "from sklearn import datasets\n",
    "dataset = datasets.load_iris()\n",
    "x, y = dataset['data'][:,:2], dataset['target']\n",
    "(num_instances, num_features), num_classes = x.shape, np.max(y)+1\n",
    "inds = np.random.permutation(num_instances)\n",
    "#train-test split)\n",
    "x_train, y_train = x[inds[:100]], y[inds[:100]]\n",
    "x_test, y_test = x[inds[100:]], y[inds[100:]]"
   ]
  },
  {
   "cell_type": "code",
   "execution_count": 114,
   "id": "ed42d08d",
   "metadata": {},
   "outputs": [
    {
     "data": {
      "text/plain": [
       "0.64"
      ]
     },
     "execution_count": 114,
     "metadata": {},
     "output_type": "execute_result"
    }
   ],
   "source": [
    "tree = DecisionTree(max_depth=20)\n",
    "tree.fit(x_train, y_train)\n",
    "# index of prediction corresponds to class number so we use argmax which\n",
    "# returns index of largest value\n",
    "y_pred = np.argmax(tree.predict(x_test), 1)\n",
    "accuracy = np.sum(y_pred == y_test) / x_test.shape[0]\n",
    "accuracy\n"
   ]
  },
  {
   "cell_type": "code",
   "execution_count": 115,
   "id": "177bb222",
   "metadata": {},
   "outputs": [
    {
     "data": {
      "image/png": "[encoded data removed]",
      "text/plain": [
       "<Figure size 432x288 with 1 Axes>"
      ]
     },
     "metadata": {
      "needs_background": "light"
     },
     "output_type": "display_data"
    }
   ],
   "source": [
    "x0v = np.linspace(np.min(x[:,0]), np.max(x[:,0]), 200)\n",
    "x1v = np.linspace(np.min(x[:,1]), np.max(x[:,1]), 200)\n",
    "x0,x1 = np.meshgrid(x0v, x1v)\n",
    "x_all = np.vstack((x0.ravel(),x1.ravel())).T\n",
    "\n",
    "model = DecisionTree(max_depth=200)\n",
    "y_train_prob = np.zeros((y_train.shape[0], num_classes))\n",
    "y_train_prob[np.arange(y_train.shape[0]), y_train] = 1\n",
    "y_prob_all = model.fit(x_train, y_train).predict(x_all)\n",
    "plt.scatter(x_train[:,0], x_train[:,1], c=y_train_prob, marker='o', alpha=1)\n",
    "plt.scatter(x_all[:,0], x_all[:,1], c=y_prob_all, marker='.', alpha=.01)\n",
    "plt.ylabel('sepal length')\n",
    "plt.xlabel('sepal width')\n",
    "plt.show()"
   ]
  },
  {
   "cell_type": "code",
   "execution_count": null,
   "id": "7b3ae0e9",
   "metadata": {},
   "outputs": [],
   "source": []
  }
 ],
 "metadata": {
  "kernelspec": {
   "display_name": "Python 3",
   "language": "python",
   "name": "python3"
  },
  "language_info": {
   "codemirror_mode": {
    "name": "ipython",
    "version": 3
   },
   "file_extension": ".py",
   "mimetype": "text/x-python",
   "name": "python",
   "nbconvert_exporter": "python",
   "pygments_lexer": "ipython3",
   "version": "3.6.9"
  }
 },
 "nbformat": 4,
 "nbformat_minor": 5
}
