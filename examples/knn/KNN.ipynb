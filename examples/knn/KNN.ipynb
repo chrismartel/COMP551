{
 "cells": [
  {
   "cell_type": "markdown",
   "id": "ed521205",
   "metadata": {},
   "source": []
  },
  {
   "cell_type": "code",
   "execution_count": 20,
   "id": "d3a30800",
   "metadata": {},
   "outputs": [],
   "source": [
    "import numpy as np\n",
    "%matplotlib inline\n",
    "import matplotlib.pyplot as plt\n",
    "from IPython.core.debugger import set_trace"
   ]
  },
  {
   "cell_type": "markdown",
   "id": "6020b218",
   "metadata": {},
   "source": [
    "## Seeding\n",
    "\n",
    "Set the seed of reproductibility so that the random data generated is repeated.\n",
    "np.random.seed(seed_value)\n",
    "--> seed_value: the input value used to \"seed\" the pseudo-random generator algorithm"
   ]
  },
  {
   "cell_type": "code",
   "execution_count": 21,
   "id": "1539eac6",
   "metadata": {},
   "outputs": [],
   "source": [
    "np.random.seed(1234)"
   ]
  },
  {
   "cell_type": "markdown",
   "id": "ff5e8a86",
   "metadata": {},
   "source": [
    "## Load Dataset\n",
    "\n",
    "Load the classical Iris dataset from scikit learn library."
   ]
  },
  {
   "cell_type": "code",
   "execution_count": 22,
   "id": "5886d179",
   "metadata": {},
   "outputs": [],
   "source": [
    "from sklearn import datasets\n",
    "dataset = datasets.load_iris()\n",
    "# print(dataset.DESCR)"
   ]
  },
  {
   "cell_type": "markdown",
   "id": "7d8c6d19",
   "metadata": {},
   "source": [
    "## Train and Test Datasets\n",
    "Create an input matrix N x D and an output vector y = {1, ..., C}^N.\n",
    "We will use only sepal length and sepal width since they have high correlation with the class label.\n",
    "\n",
    "Then, we randomly split the data into train and test set"
   ]
  },
  {
   "cell_type": "code",
   "execution_count": 23,
   "id": "7b70222b",
   "metadata": {},
   "outputs": [
    {
     "name": "stdout",
     "output_type": "stream",
     "text": [
      "instances (N) \t 150 \n",
      " features (D) \t 2 \n",
      " classes (C) \t 3\n"
     ]
    }
   ],
   "source": [
    "x, y = dataset['data'][:,:2], dataset['target']\n",
    "# number of instances and number of dimensions\n",
    "(N,D) = x.shape\n",
    "# number of classes\n",
    "C = np.max(y) + 1\n",
    "print(f'instances (N) \\t {N} \\n features (D) \\t {D} \\n classes (C) \\t {C}')\n",
    "\n",
    "# random permutation of indexes\n",
    "inds = np.random.permutation(N)\n",
    "\n",
    "# train set correspond to first 100 instances\n",
    "x_train, y_train = x[inds[:100]], y[inds[:100]]\n",
    "\n",
    "# test set correspond to rest of instances\n",
    "x_test, y_test = x[inds[100:]], y[inds[100:]]"
   ]
  },
  {
   "cell_type": "markdown",
   "id": "53103673",
   "metadata": {},
   "source": [
    "## Data Visualization\n",
    "\n",
    "Generate a scatter plot to display train set and test set.\n",
    "\n",
    "x axis: sepal width\n",
    "\n",
    "y axis: sepal length"
   ]
  },
  {
   "cell_type": "code",
   "execution_count": 24,
   "id": "d800fc60",
   "metadata": {},
   "outputs": [
    {
     "data": {
      "text/plain": [
       "Text(0.5, 0, 'sepal width')"
      ]
     },
     "execution_count": 24,
     "metadata": {},
     "output_type": "execute_result"
    },
    {
     "data": {
      "image/png": "[encoded data removed]",
      "text/plain": [
       "<Figure size 432x288 with 1 Axes>"
      ]
     },
     "metadata": {
      "needs_background": "light"
     },
     "output_type": "display_data"
    }
   ],
   "source": [
    "plt.scatter(x_train[:,0], x_train[:, 1], c=y_train, marker='o', label='train')\n",
    "plt.scatter(x_test[:,0], x_test[:, 1], c=y_test, marker='s', label='test')\n",
    "plt.legend()\n",
    "plt.ylabel('sepal length')\n",
    "plt.xlabel('sepal width')"
   ]
  },
  {
   "cell_type": "markdown",
   "id": "e85eec5a",
   "metadata": {},
   "source": [
    "## The KNN Class\n",
    "\n",
    "Our python models will be implemented as classes. Two class methods that we usually need are fit and predict. The fit method performs training by fitting the data. The predict method makes prediction on the new data. In the __init__ function, we initiliaze our model which includes initializing hyper parameters.\n",
    "\n",
    "#### Hyper-parameters\n",
    "K: number of nearest neighbours"
   ]
  },
  {
   "cell_type": "code",
   "execution_count": 25,
   "id": "9888d49b",
   "metadata": {},
   "outputs": [],
   "source": [
    "## Euclidean distance function\n",
    "euclidean = lambda x1, x2: np.sqrt(np.sum((x1 - x2)**2, axis=-1))\n",
    "manhattan = lambda x1, x2: np.sum(np.abs(x1 - x2), axis=-1)\n",
    "\n",
    "class KNN:\n",
    "    def __init__(self, K=1, dist_fn=euclidean):\n",
    "        self.K = K\n",
    "        self.dist_fn = dist_fn\n",
    "        return\n",
    "    \n",
    "    def fit(self, x_train, y_train):\n",
    "        '''KNN is a lazy learner so store the training data as it is.'''\n",
    "        self.x = x_train\n",
    "        self.y = y_train\n",
    "        self.C = np.max(y_train) + 1\n",
    "        return self\n",
    "    \n",
    "    def predict(self, x_test):\n",
    "        '''Make a prediction using the stored train data and the input test data'''\n",
    "        \n",
    "        num_test = x_test.shape[0]\n",
    "        \n",
    "        # N1: number of train instances\n",
    "        # N2: number of test instances\n",
    "        # D: number of features\n",
    "        #\n",
    "        # x_train --> (N1,D)\n",
    "        # x_test --> (N2,D)\n",
    "        #\n",
    "        # For each test point, we want to know the distance between the test point \n",
    "        # and each train point.\n",
    "        # Result matrix shape: (N2,N1)\n",
    "        #\n",
    "        # To get (N2,N1,D) from (N1,D) and (N2,D), we use broadcasting. \n",
    "        # Inputs: (1,N1,D) and (N2,1,D) --> Stretched to (N2,N1,D) during arithmetic operations\n",
    "        # Reshaped into (N2,N1) when computing the distances\n",
    "        \n",
    "        distances = self.dist_fn(self.x[None,:,:], x_test[:,None,:])\n",
    "        \n",
    "        # find knns for each test point. Store the indices of the nearest neighbors.\n",
    "        # the i-th row of knns store the indices of the k nearest neighbours of the ith sample\n",
    "        knns = np.zeros((num_test, self.K), dtype=int)\n",
    "        \n",
    "        # probability distribution for y classes\n",
    "        y_prob = np.zeros((num_test, self.C))\n",
    "        \n",
    "        # find the K nearest neighbors for each test point\n",
    "        # iterate through all test points\n",
    "        # sort the distances for every test point and take the K smallest\n",
    "        for i in range(num_test):\n",
    "            # np.argsort returns the INDICES\n",
    "            knns[i,:] = np.argsort(distances[i])[:self.K]\n",
    "            # check in the training data the number of occurences of each class in the \n",
    "            # knns of the test point\n",
    "            y_prob[i,:] = np.bincount(self.y[knns[i,:]], minlength=self.C)\n",
    "            \n",
    "        # to get the probability, divide by number of neighbours\n",
    "        y_prob /= self.K\n",
    "        return y_prob, knns"
   ]
  },
  {
   "cell_type": "markdown",
   "id": "e4089dae",
   "metadata": {},
   "source": [
    "## Fit the Model and Predict\n",
    "\n",
    "For KNN, no learning occurs in training time"
   ]
  },
  {
   "cell_type": "code",
   "execution_count": 26,
   "id": "25b2eb9c",
   "metadata": {},
   "outputs": [
    {
     "name": "stdout",
     "output_type": "stream",
     "text": [
      "Knns shape:  (50, 3)\n",
      "y_prob shape:  (50, 3)\n"
     ]
    }
   ],
   "source": [
    "model = KNN(K=3)\n",
    "y_prob, knns = model.fit(x_train, y_train).predict(x_test)\n",
    "print('knns shape: ', knns.shape)\n",
    "print('y_prob shape: ', y_prob.shape)"
   ]
  },
  {
   "cell_type": "code",
   "execution_count": 27,
   "id": "4d8877a1",
   "metadata": {},
   "outputs": [],
   "source": [
    "# we want to get the y prediction with the highest probability\n",
    "#np.argmax returns the indices with the highest value on an axis\n",
    "y_pred = np.argmax(y_prob, axis=-1)"
   ]
  },
  {
   "cell_type": "code",
   "execution_count": 28,
   "id": "48c08a94",
   "metadata": {},
   "outputs": [
    {
     "name": "stdout",
     "output_type": "stream",
     "text": [
      "accuracy is 38.0.\n"
     ]
    }
   ],
   "source": [
    "# calculate accuracy by comparing with the y_test values\n",
    "\n",
    "# passing a boolean array to np.sum will count and return the number of True elements\n",
    "accuracy = np.sum(y_pred == y_test)/y_test.shape[0]\n",
    "\n",
    "print(f'accuracy is {accuracy*100:.1f}.')\n",
    "\n",
    "\n",
    "# correct predictions\n",
    "correct = y_pred == y_test\n",
    "incorrect = np.logical_not(correct)"
   ]
  },
  {
   "cell_type": "markdown",
   "id": "f1410935",
   "metadata": {},
   "source": [
    "## Visualization of Correct/Incorrect Predictions"
   ]
  },
  {
   "cell_type": "code",
   "execution_count": 29,
   "id": "b51121a6",
   "metadata": {},
   "outputs": [
    {
     "data": {
      "image/png": "[encoded data removed]",
      "text/plain": [
       "<Figure size 432x288 with 1 Axes>"
      ]
     },
     "metadata": {
      "needs_background": "light"
     },
     "output_type": "display_data"
    }
   ],
   "source": [
    "#visualization of the points\n",
    "plt.scatter(x_train[:,0], x_train[:,1], c=y_train, marker='o', alpha=.2, label='train')\n",
    "plt.scatter(x_test[correct,0], x_test[correct,1], marker='.', c=y_pred[correct], label='correct')\n",
    "plt.scatter(x_test[incorrect,0], x_test[incorrect,1], marker='x', c=y_test[incorrect], label='misclassified')\n",
    "\n",
    "#connect each node to k-nearest neighbours in the training set\n",
    "for i in range(x_test.shape[0]):\n",
    "    for k in range(model.K):\n",
    "        hor = x_test[i,0], x_train[knns[i,k],0]\n",
    "        ver = x_test[i,1], x_train[knns[i,k],1]\n",
    "        plt.plot(hor, ver, 'k-', alpha=.1)\n",
    "        \n",
    "plt.legend()\n",
    "plt.ylabel('sepal length')\n",
    "plt.xlabel('sepal width')\n",
    "plt.show()"
   ]
  },
  {
   "cell_type": "markdown",
   "id": "f4fe8ff3",
   "metadata": {},
   "source": [
    "## Decision Boundaries\n",
    "\n",
    "To draw the decision boundary we classify all the points on a 2D grid. The meshgrid function creates all the points on the grid by taking discretizations of horizontal and vertical axes."
   ]
  },
  {
   "cell_type": "code",
   "execution_count": null,
   "id": "60f214bf",
   "metadata": {},
   "outputs": [],
   "source": [
    "#we can make the grid finer by increasing the number of samples from 200 to higher value\n",
    "x0v = np.linspace(np.min(x[:,0]), np.max(x[:,0]), 200)\n",
    "x1v = np.linspace(np.min(x[:,1]), np.max(x[:,1]), 200)\n",
    "\n",
    "#to features values as a mesh  \n",
    "x0, x1 = np.meshgrid(x0v, x1v)\n",
    "x_all = np.vstack((x0.ravel(),x1.ravel())).T\n",
    "\n",
    "for k in range(1,4):\n",
    "  model = KNN(K=k)\n",
    "\n",
    "  y_train_prob = np.zeros((y_train.shape[0], C))\n",
    "  y_train_prob[np.arange(y_train.shape[0]), y_train] = 1\n",
    "\n",
    "  #to get class probability of all the points in the 2D grid\n",
    "  y_prob_all, _ = model.fit(x_train, y_train).predict(x_all)\n",
    "\n",
    "  y_pred_all = np.zeros_like(y_prob_all)\n",
    "  y_pred_all[np.arange(x_all.shape[0]), np.argmax(y_prob_all, axis=-1)] = 1\n",
    "\n",
    "  plt.scatter(x_train[:,0], x_train[:,1], c=y_train_prob, marker='o', alpha=1)\n",
    "  plt.scatter(x_all[:,0], x_all[:,1], c=y_pred_all, marker='.', alpha=0.01)\n",
    "  plt.ylabel('sepal length')\n",
    "  plt.xlabel('sepal width')\n",
    "  plt.show()"
   ]
  },
  {
   "cell_type": "markdown",
   "id": "22835785",
   "metadata": {},
   "source": [
    "We can also plot class probabilities (different values of probabilities take different colors)"
   ]
  },
  {
   "cell_type": "code",
   "execution_count": null,
   "id": "03f0f0e7",
   "metadata": {},
   "outputs": [],
   "source": [
    "plt.scatter(x_train[:,0], x_train[:,1], c=y_train_prob, marker='o', alpha=1)\n",
    "plt.scatter(x_all[:,0], x_all[:,1], c=y_prob_all, marker='.', alpha=.01)\n",
    "plt.ylabel('sepal length')\n",
    "plt.xlabel('sepal width')\n",
    "plt.show()"
   ]
  },
  {
   "cell_type": "markdown",
   "id": "e3349547",
   "metadata": {},
   "source": [
    "## The Effect of Noise and Feature Scaling\n",
    "\n",
    "Nearest neighbours are HIGHLY affected by the existence of noisy or irrelevant features.\n",
    "\n",
    "In the following example, we add noise to see the effect ont the accuracy of our prediction"
   ]
  },
  {
   "cell_type": "code",
   "execution_count": null,
   "id": "e2059a94",
   "metadata": {},
   "outputs": [],
   "source": [
    "noise_scale = [.01, .1, 1, 10, 100, 1000]\n",
    "\n",
    "#generate random noise\n",
    "noise = np.random.randn(x.shape[0],1)\n",
    "results = []\n",
    "\n",
    "# One test for each noise scale\n",
    "for s in noise_scale:\n",
    "    #add noise the noise column as an extra feature\n",
    "    # according to the random noises factor we generated for the inputs\n",
    "    x_n = np.column_stack((x, noise*s))\n",
    "    results.append([])\n",
    "    #repeat the experiment 100 times with different train and test split\n",
    "    for r in range(100):\n",
    "        #data processing and train-test split\n",
    "        inds = np.random.permutation(N)\n",
    "        x_train, y_train = x_n[inds[:100]], y[inds[:100]]\n",
    "        x_test, y_test = x_n[inds[100:]], y[inds[100:]]\n",
    "        #define model\n",
    "        model = KNN(K=3)\n",
    "        #prediction\n",
    "        y_prob, _ = model.fit(x_train, y_train).predict(x_test)\n",
    "        y_pred = np.argmax(y_prob,1)\n",
    "        accuracy = np.sum(y_pred == y_test)/y_test.shape[0]\n",
    "        results[-1].append(accuracy)\n",
    "results = np.array(results)\n",
    "plt.errorbar(noise_scale, results.mean(1), results.std(1))\n",
    "plt.xscale('log')\n",
    "plt.xlabel(\"scale of the noisy feature\")\n",
    "plt.ylabel(\"accuracy\")\n",
    "plt.show()"
   ]
  },
  {
   "cell_type": "code",
   "execution_count": null,
   "id": "bf902a85",
   "metadata": {},
   "outputs": [],
   "source": []
  }
 ],
 "metadata": {
  "kernelspec": {
   "display_name": "Python 3",
   "language": "python",
   "name": "python3"
  },
  "language_info": {
   "codemirror_mode": {
    "name": "ipython",
    "version": 3
   },
   "file_extension": ".py",
   "mimetype": "text/x-python",
   "name": "python",
   "nbconvert_exporter": "python",
   "pygments_lexer": "ipython3",
   "version": "3.6.9"
  }
 },
 "nbformat": 4,
 "nbformat_minor": 5
}
