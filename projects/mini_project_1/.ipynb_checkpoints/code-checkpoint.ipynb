{
 "cells": [
  {
   "cell_type": "markdown",
   "id": "f71f70fe",
   "metadata": {},
   "source": [
    "# Mini-Project 1: Machine Learning 101\n",
    "\n",
    "Christian Martel (260867191)\n",
    "\n",
    "Luka Loignon\n",
    "\n",
    "Marie Guertin"
   ]
  },
  {
   "cell_type": "markdown",
   "id": "40a40d22",
   "metadata": {},
   "source": [
    "## Data Preprocessing\n",
    "\n",
    "Acquire data, analyze it and clean it\n",
    "\n",
    "### Adult Dataset\n",
    "\n",
    "Prediction task is to determine whether someone makes over 50K a year.\n",
    "https://archive.ics.uci.edu/ml/datasets/Adult\n",
    "\n",
    "### X Dataset\n",
    "\n",
    "// TODO: choose a dataset from https://archive.ics.uci.edu/ml/datasets.php \n",
    "// choose a dataset not too small not too large\n",
    "\n",
    "\n",
    "1. Download datasets\n",
    "\n",
    "2. Load datasets into Pandas dataframes or Numpy objects\n",
    "\n",
    "3. Clean up the data : remove instances that have too many missing or invalid data entries.\n",
    "\n",
    "4. Convert discrete variables into multiple using one-hot encoding (see Encoding categorical features in scikit learn doc)\n",
    "\n"
   ]
  },
  {
   "cell_type": "code",
   "execution_count": 60,
   "id": "893be658",
   "metadata": {},
   "outputs": [],
   "source": []
  },
  {
   "cell_type": "code",
   "execution_count": null,
   "id": "af0862c3",
   "metadata": {},
   "outputs": [],
   "source": [
    "import pandas as pd\n",
    "import numpy as np\n",
    "from pandas.api.types import is_string_dtype\n",
    "pd.set_option('display.max_columns', None)\n",
    "\n",
    "# 13 columns\n",
    "column_names = ['age', 'workclass', 'fnlwgt', 'education', 'marital-status', 'occupation', 'relationship', 'race', 'sex', 'capital-gain', 'capital-loss', 'hours-per-week', 'native-country']\n",
    "categorical_column_names = ['workclass', 'education', 'marital-status', 'occupation', 'relationship', 'race', 'sex', 'native-country']\n",
    "\n",
    "# import data to dataframes\n",
    "data_df = pd.read_csv(\"data/adult.data\", usecols = range(13), names = column_names)\n",
    "test_df = pd.read_csv(\"data/adult.test\", usecols = range(13), names = column_names)\n",
    "\n",
    "# 1) CLEAN-UP\n",
    "data_df_obj = data_df.select_dtypes(['object'])\n",
    "test_df_obj = test_df.select_dtypes(['object'])\n",
    "\n",
    "data_df[data_df_obj.columns] = data_df_obj.apply(lambda x: x.str.strip())\n",
    "test_df[test_df_obj.columns] = test_df_obj.apply(lambda x: x.str.strip())\n",
    "\n",
    "\n",
    "# 2) REMOVE USELESS FEATURES\n",
    "# count number of zeros or nan values per column and drop columns with more than 75% of 0 or nan values\n",
    "num_instances = data_df.shape[0]\n",
    "useless_data_threshold = 0.75\n",
    "\n",
    "for c in column_names:\n",
    "    useless_proportion = (data_df[c].isna().sum() + (data_df[c] == 0).sum()) / num_instances\n",
    "    if useless_proportion > useless_data_threshold:\n",
    "        data_df.drop(columns = c, inplace = True)\n",
    "        test_df.drop(columns = c, inplace = True)\n",
    "\n",
    "# 3) ONE_HOT_ENCODING \n",
    "\n",
    "from sklearn.preprocessing import OneHotEncoder\n",
    "\n",
    "for cat in categorical_column_names:    \n",
    "    # concatenante one hot encoded dummies columns\n",
    "    data_df = pd.concat([data_df, pd.get_dummies(data_df[cat], prefix = cat, prefix_sep = '_')], axis = 1)\n",
    "    test_df = pd.concat([test_df, pd.get_dummies(data_df[cat], prefix = cat, prefix_sep = '_')], axis = 1)\n",
    "    \n",
    "    # drop old columns\n",
    "    data_df.drop(columns = cat, inplace = True)\n",
    "    test_df.drop(columns = cat, inplace = True)"
   ]
  },
  {
   "cell_type": "markdown",
   "id": "68c885c6",
   "metadata": {},
   "source": [
    "## Experiments"
   ]
  },
  {
   "cell_type": "markdown",
   "id": "d8fdf96b",
   "metadata": {},
   "source": []
  }
 ],
 "metadata": {
  "kernelspec": {
   "display_name": "Python 3",
   "language": "python",
   "name": "python3"
  },
  "language_info": {
   "codemirror_mode": {
    "name": "ipython",
    "version": 3
   },
   "file_extension": ".py",
   "mimetype": "text/x-python",
   "name": "python",
   "nbconvert_exporter": "python",
   "pygments_lexer": "ipython3",
   "version": "3.6.9"
  }
 },
 "nbformat": 4,
 "nbformat_minor": 5
}
