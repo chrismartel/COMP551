{
 "cells": [
  {
   "cell_type": "markdown",
   "id": "f71f70fe",
   "metadata": {},
   "source": [
    "# Mini-Project 1: Machine Learning 101\n",
    "\n",
    "Christian Martel (260867191)\n",
    "\n",
    "Luka Loignon\n",
    "\n",
    "Marie Guertin"
   ]
  },
  {
   "cell_type": "markdown",
   "id": "88e1219b",
   "metadata": {},
   "source": [
    "# PART I: Adult Dataset\n",
    "\n",
    "Prediction task is to determine whether someone makes over 50K a year.\n",
    "https://archive.ics.uci.edu/ml/datasets/Adult"
   ]
  },
  {
   "cell_type": "markdown",
   "id": "3803f406",
   "metadata": {},
   "source": [
    "## Imports and Setup"
   ]
  },
  {
   "cell_type": "code",
   "execution_count": null,
   "id": "f0db5020",
   "metadata": {},
   "outputs": [],
   "source": [
    "import pandas as pd\n",
    "import numpy as np\n",
    "%matplotlib notebook\n",
    "%matplotlib inline\n",
    "import matplotlib.pyplot as plt\n",
    "from pandas.api.types import is_string_dtype\n",
    "pd.set_option('display.max_columns', None)\n",
    "pd.set_option('display.max_rows', 100)\n",
    "np.random.seed(1234)"
   ]
  },
  {
   "cell_type": "markdown",
   "id": "40a40d22",
   "metadata": {},
   "source": [
    "## Data Preprocessing\n",
    "\n",
    "Acquire data, analyze it and clean it"
   ]
  },
  {
   "cell_type": "code",
   "execution_count": null,
   "id": "d7478041",
   "metadata": {},
   "outputs": [],
   "source": [
    "# 13 feature columns and 2 prediction columns\n",
    "columns = ['age', 'workclass', 'fnlwgt', 'education', 'education-num', 'marital-status', 'occupation', 'relationship', 'race', 'sex', 'capital-gain', 'capital-loss', 'hours-per-week', 'native-country', 'salary']\n",
    "categorical_columns = ['workclass', 'education', 'marital-status', 'occupation', 'relationship', 'race', 'sex', 'native-country']\n",
    "\n",
    "# 1) IMPORT DATA\n",
    "train_df = pd.read_csv(\"data/adult.data\", usecols = range(15), names = columns)\n",
    "test_df = pd.read_csv(\"data/adult.test\", usecols = range(15), names = columns)\n",
    "\n",
    "# 2) CLEAN-UP\n",
    "train_df_obj = train_df.select_dtypes(['object'])\n",
    "test_df_obj = test_df.select_dtypes(['object'])\n",
    "\n",
    "train_df[train_df_obj.columns] = train_df_obj.apply(lambda x: x.str.strip())\n",
    "test_df[test_df_obj.columns] = test_df_obj.apply(lambda x: x.str.strip())\n",
    "\n",
    "\n",
    "# 3) REMOVE USELESS FEATURES\n",
    "# count number of zeros or nan values per column and drop columns with more than 75% of 0 or nan values\n",
    "num_instances = train_df.shape[0]\n",
    "useless_data_threshold = 0.75\n",
    "\n",
    "for c in columns:\n",
    "    useless_proportion = (train_df[c].isna().sum() + (train_df[c] == 0).sum()) / num_instances\n",
    "    if useless_proportion > useless_data_threshold:\n",
    "        train_df.drop(columns = c, inplace = True)\n",
    "        test_df.drop(columns = c, inplace = True)\n",
    "\n",
    "# 4) FEATURE ONE_HOT_ENCODING \n",
    "\n",
    "for cat in categorical_columns:    \n",
    "    # concatenante one hot encoded dummies columns\n",
    "    train_df, test_df = pd.concat([train_df, pd.get_dummies(train_df[cat], prefix = cat, prefix_sep = '_')], axis = 1), pd.concat([test_df, pd.get_dummies(train_df[cat], prefix = cat, prefix_sep = '_')], axis = 1)\n",
    "    \n",
    "    # drop old columns\n",
    "    train_df, test_df = train_df.drop(columns = cat), test_df.drop(columns = cat)\n",
    "    \n",
    "# 5) MOVE PREDICTION COLUMN TO THE END\n",
    "\n",
    "y_train, y_test = train_df.pop('salary'), test_df.pop('salary')\n",
    "train_df, test_df = pd.concat([train_df, y_train],axis=1), pd.concat([test_df, y_test],axis=1)\n",
    "\n",
    "\n",
    "# 6) NUMERIZE PREDICTION VARIABLE\n",
    "\n",
    "# - '>50K': 1\n",
    "# - '<=50K': 0\n",
    "train_df['salary'] = train_df['salary'].apply(lambda x: 1 if (x == '>50K') else 0)\n",
    "train_df"
   ]
  },
  {
   "cell_type": "markdown",
   "id": "c9919f81",
   "metadata": {},
   "source": [
    "## Cross Validation\n",
    "\n",
    "helper method to perform the splits for L-fold cross-validation"
   ]
  },
  {
   "cell_type": "code",
   "execution_count": null,
   "id": "7291ed14",
   "metadata": {},
   "outputs": [],
   "source": [
    "def cross_validate_splits(n, n_folds=5):\n",
    "    # get the number of data samples in each split\n",
    "    splits = []\n",
    "    n_val = n // n_folds\n",
    "    inds = np.random.permutation(n)\n",
    "    inds = []\n",
    "    for f in range(n_folds):\n",
    "        tr_inds = []\n",
    "        # get the validation indexes\n",
    "        val_inds = list(range(f * n_val, (f+1) * n_val))\n",
    "        \n",
    "        # get the training indexes\n",
    "        tr_inds = list()\n",
    "        if f < n_folds - 1:\n",
    "            tr_inds = list(range((f+1) * n_val, n))\n",
    "        \n",
    "        if f > 0:\n",
    "            tr_inds = tr_inds + list(range(0, f * n_val))\n",
    "        splits.append((tr_inds, val_inds))\n",
    "    return splits"
   ]
  },
  {
   "cell_type": "markdown",
   "id": "a0768fbd",
   "metadata": {},
   "source": [
    "## Validation Metrics"
   ]
  },
  {
   "cell_type": "code",
   "execution_count": null,
   "id": "2d506d05",
   "metadata": {},
   "outputs": [],
   "source": [
    "# define MSE loss function\n",
    "loss = lambda y, y_pred: np.mean((y-y_pred)**2)\n",
    "\n",
    "#define accuracy function\n",
    "accuracy = lambda y, y_pred: np.sum(y == y_pred)/y.size"
   ]
  },
  {
   "cell_type": "markdown",
   "id": "68c885c6",
   "metadata": {},
   "source": [
    "## KNN Cross-Validation"
   ]
  },
  {
   "cell_type": "code",
   "execution_count": null,
   "id": "daf71f31",
   "metadata": {},
   "outputs": [],
   "source": [
    "from sklearn.neighbors import KNeighborsClassifier\n",
    "\n",
    "# convert to numpy arrays\n",
    "train, test = train_df.to_numpy(), test_df.to_numpy()\n",
    "\n",
    "num_instances = train.shape[0]\n",
    "\n",
    "x, y = train[:, :-1], train[:, -1]\n",
    "x_test, y_test = test[:, :-1], test[:, -1]\n",
    "\n",
    "# number of folds for L-fold cross-validation\n",
    "L = 5\n",
    "\n",
    "def knn_cross_validation(x, y, K_list, L):\n",
    "\n",
    "    num_instances = x.shape[0]\n",
    "        \n",
    "    # l-fold cross validation splits\n",
    "    n_folds_splits = cross_validate_splits(num_instances, n_folds=L)\n",
    "\n",
    "    # K x L matrix\n",
    "    err_val_matrix, acc_val_matrix = np.zeros((len(K_list),L)), np.zeros((len(K_list),L))\n",
    "    err_train_matrix, acc_train_matrix = np.zeros((len(K_list),L)), np.zeros((len(K_list),L))\n",
    "\n",
    "    for i, K in enumerate(K_list):\n",
    "        model = KNeighborsClassifier(n_neighbors=K)\n",
    "        for j, split in enumerate(n_folds_splits):\n",
    "            # split into train set and validation set\n",
    "            x_train, x_val = x[split[0], :], x[split[1], :]\n",
    "            y_train, y_val = y[split[0]], y[split[1]]\n",
    "\n",
    "            model.fit(x_train, y_train)\n",
    "\n",
    "            y_pred_val = model.predict(x_val)\n",
    "            y_pred_train = model.predict(x_train)\n",
    "            \n",
    "            err_val = loss(y_val, y_pred_val)\n",
    "            acc_val = accuracy(y_val, y_pred_val)\n",
    "            \n",
    "            err_train = loss(y_train, y_pred_train)\n",
    "            acc_train = accuracy(y_train, y_pred_train)\n",
    "\n",
    "            err_val_matrix[i][j] = err_val\n",
    "            acc_val_matrix[i][j] = acc_val\n",
    "            \n",
    "            err_train_matrix[i][j] = err_train\n",
    "            acc_train_matrix[i][j] = acc_train\n",
    "\n",
    "    return err_val_matrix, acc_val_matrix, err_train_matrix, acc_train_matrix"
   ]
  },
  {
   "cell_type": "markdown",
   "id": "45563dd4",
   "metadata": {},
   "source": [
    "### Visualization\n",
    "\n",
    "1. MSE vs Number of NN (K)\n",
    "2. Accuracy vs Number of NN (K)"
   ]
  },
  {
   "cell_type": "code",
   "execution_count": 8,
   "id": "f3b265a1",
   "metadata": {},
   "outputs": [
    {
     "data": {
      "image/png": "[encoded data removed]",
      "text/plain": [
       "<Figure size 432x288 with 1 Axes>"
      ]
     },
     "metadata": {
      "needs_background": "light"
     },
     "output_type": "display_data"
    },
    {
     "data": {
      "image/png": "[encoded data removed]",
      "text/plain": [
       "<Figure size 432x288 with 1 Axes>"
      ]
     },
     "metadata": {
      "needs_background": "light"
     },
     "output_type": "display_data"
    }
   ],
   "source": [
    "K_list = range(1,101)\n",
    "err_matrix, acc_matrix = knn_cross_validation(x, y, K_list, L)\n",
    "\n",
    "plt.title('MSE of KNN for Different K Values with Full Data Size')\n",
    "plt.errorbar(K_list, np.mean(err_matrix, axis=1), np.std(err_matrix, axis=1), label='validation')\n",
    "plt.legend()\n",
    "plt.xlabel('K (number of neighbours)')\n",
    "plt.ylabel('mean squared error')\n",
    "plt.ylim(0,0.5)\n",
    "plt.show()\n",
    "\n",
    "plt.title('Accuracy of KNN for Different K Values with Full Data Size')\n",
    "plt.errorbar(K_list, np.mean(acc_matrix, axis=1), np.std(acc_matrix, axis=1), label='validation')\n",
    "plt.legend()\n",
    "plt.xlabel('K (number of neighbours)')\n",
    "plt.ylabel('model accuracy')\n",
    "plt.ylim(0,1)\n",
    "plt.show()"
   ]
  },
  {
   "cell_type": "markdown",
   "id": "596d4a35",
   "metadata": {},
   "source": [
    "## Sample Growing Data\n",
    "\n",
    "Test with different training data sizes"
   ]
  },
  {
   "cell_type": "code",
   "execution_count": null,
   "id": "f95ed524",
   "metadata": {},
   "outputs": [],
   "source": [
    "sizes = [10, ]\n",
    "\n",
    "inds = np.random.permutation(range(train.shape[0]))\n",
    "\n",
    "for s in sizes:\n",
    "    # K range list\n",
    "    K_list = range(1,int((L-1)/L*(s+1)))\n",
    "    \n",
    "    # select s random samples from train dataset\n",
    "    x_subset, y_subset = x[np.random.choice(inds,s, replace=False)], y[np.random.choice(inds,s, replace=False)]\n",
    "    \n",
    "    # apply cross validation to get validation and train error matrices \n",
    "    err_val_matrix, acc_val_matrix, err_train_matrix, acc_train_matrix = knn_cross_validation(x_subset, y_subset, K_list, L)\n",
    "    \n",
    "    plt.title('MSE of KNN for Different K Values with {size} Samples'.format(size = s))\n",
    "    plt.plot(K_list, np.mean(err_train_matrix, axis=1),  label='train')\n",
    "    plt.errorbar(K_list, np.mean(err_val_matrix, axis=1), np.std(err_val_matrix, axis=1), label='validation')\n",
    "    plt.legend()\n",
    "    plt.xlabel('K (number of neighbours)')\n",
    "    plt.ylabel('mean squared error')\n",
    "    plt.ylim(0,1)\n",
    "    plt.show()\n",
    "\n",
    "    plt.title('Accuracy of KNN for Different K Values with {size} Samples'.format(size = s))\n",
    "    plt.plot(K_list, np.mean(acc_train_matrix, axis=1),  label='train')\n",
    "    plt.errorbar(K_list, np.mean(acc_val_matrix, axis=1), np.std(acc_val_matrix, axis=1), label='validation')\n",
    "    plt.legend()\n",
    "    plt.xlabel('K (number of neighbours)')\n",
    "    plt.ylabel('model accuracy')\n",
    "    plt.ylim(0,1)\n",
    "    plt.show()"
   ]
  },
  {
   "cell_type": "code",
   "execution_count": null,
   "id": "388e0778",
   "metadata": {},
   "outputs": [],
   "source": []
  }
 ],
 "metadata": {
  "kernelspec": {
   "display_name": "Python 3",
   "language": "python",
   "name": "python3"
  },
  "language_info": {
   "codemirror_mode": {
    "name": "ipython",
    "version": 3
   },
   "file_extension": ".py",
   "mimetype": "text/x-python",
   "name": "python",
   "nbconvert_exporter": "python",
   "pygments_lexer": "ipython3",
   "version": "3.6.9"
  }
 },
 "nbformat": 4,
 "nbformat_minor": 5
}
