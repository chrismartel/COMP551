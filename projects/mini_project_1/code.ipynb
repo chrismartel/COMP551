{
 "cells": [
  {
   "cell_type": "markdown",
   "id": "f71f70fe",
   "metadata": {},
   "source": [
    "# Mini-Project 1: Machine Learning 101\n",
    "\n",
    "Christian Martel (260867191)\n",
    "\n",
    "Luka Loignon\n",
    "\n",
    "Marie Guertin"
   ]
  },
  {
   "cell_type": "markdown",
   "id": "40a40d22",
   "metadata": {},
   "source": [
    "## Data Preprocessing\n",
    "\n",
    "Acquire data, analyze it and clean it\n",
    "\n",
    "### Adult Dataset\n",
    "\n",
    "Prediction task is to determine whether someone makes over 50K a year.\n",
    "https://archive.ics.uci.edu/ml/datasets/Adult\n",
    "\n",
    "### X Dataset\n",
    "\n",
    "// TODO: choose a dataset from https://archive.ics.uci.edu/ml/datasets.php \n",
    "// choose a dataset not too small not too large\n",
    "\n",
    "\n",
    "1. Download datasets\n",
    "\n",
    "2. Load datasets into Pandas dataframes or Numpy objects\n",
    "\n",
    "3. Clean up the data : remove instances that have too many missing or invalid data entries.\n",
    "\n",
    "4. Convert discrete variables into multiple using one-hot encoding (see Encoding categorical features in scikit learn doc)\n",
    "\n"
   ]
  },
  {
   "cell_type": "code",
   "execution_count": 1,
   "id": "a55c0032",
   "metadata": {},
   "outputs": [
    {
     "ename": "ModuleNotFoundError",
     "evalue": "No module named 'pandas'",
     "output_type": "error",
     "traceback": [
      "\u001b[0;31m---------------------------------------------------------------------------\u001b[0m",
      "\u001b[0;31mModuleNotFoundError\u001b[0m                       Traceback (most recent call last)",
      "\u001b[0;32m<ipython-input-1-7dd3504c366f>\u001b[0m in \u001b[0;36m<module>\u001b[0;34m\u001b[0m\n\u001b[0;32m----> 1\u001b[0;31m \u001b[0;32mimport\u001b[0m \u001b[0mpandas\u001b[0m \u001b[0;32mas\u001b[0m \u001b[0mpd\u001b[0m\u001b[0;34m\u001b[0m\u001b[0;34m\u001b[0m\u001b[0m\n\u001b[0m",
      "\u001b[0;31mModuleNotFoundError\u001b[0m: No module named 'pandas'"
     ]
    }
   ],
   "source": [
    "import pandas as pd"
   ]
  },
  {
   "cell_type": "markdown",
   "id": "68c885c6",
   "metadata": {},
   "source": [
    "## Experiments"
   ]
  },
  {
   "cell_type": "markdown",
   "id": "d8fdf96b",
   "metadata": {},
   "source": []
  }
 ],
 "metadata": {
  "kernelspec": {
   "display_name": "Python 3",
   "language": "python",
   "name": "python3"
  },
  "language_info": {
   "codemirror_mode": {
    "name": "ipython",
    "version": 3
   },
   "file_extension": ".py",
   "mimetype": "text/x-python",
   "name": "python",
   "nbconvert_exporter": "python",
   "pygments_lexer": "ipython3",
   "version": "3.6.9"
  }
 },
 "nbformat": 4,
 "nbformat_minor": 5
}
