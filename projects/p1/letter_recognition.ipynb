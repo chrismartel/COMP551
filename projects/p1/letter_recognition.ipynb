{
  "nbformat": 4,
  "nbformat_minor": 5,
  "metadata": {
    "kernelspec": {
      "display_name": "Python 3",
      "language": "python",
      "name": "python3"
    },
    "language_info": {
      "codemirror_mode": {
        "name": "ipython",
        "version": 3
      },
      "file_extension": ".py",
      "mimetype": "text/x-python",
      "name": "python",
      "nbconvert_exporter": "python",
      "pygments_lexer": "ipython3",
      "version": "3.6.9"
    },
    "colab": {
      "name": "letter_recognition.ipynb",
      "provenance": []
    }
  },
  "cells": [
    {
      "cell_type": "markdown",
      "metadata": {
        "id": "85a96b9b"
      },
      "source": [
        "# Mini-Project 1: Machine Learning 101\n",
        "\n",
        "Christian Martel (260867191)\n",
        "\n",
        "Luka Loignon (260871296)\n",
        "\n",
        "Marie Guertin (260870552)"
      ],
      "id": "85a96b9b"
    },
    {
      "cell_type": "markdown",
      "metadata": {
        "id": "a69af1a7"
      },
      "source": [
        "# PART II: Letter Recognition Dataset\n",
        "\n",
        "Dataset of character image features. Goal is to identify the letter.\n",
        "https://archive.ics.uci.edu/ml/datasets/Letter+Recognition?fbclid=IwAR2QJ1w92tCvATRgyAbEDZ7sOuYViNBxxvfp7ofTFHCljA6TcV68EskJTKA"
      ],
      "id": "a69af1a7"
    },
    {
      "cell_type": "code",
      "metadata": {
        "id": "fsHVc8uJC93c",
        "outputId": "edbf2934-ad17-4849-8be7-dc59d73153d7",
        "colab": {
          "base_uri": "https://localhost:8080/"
        }
      },
      "source": [
        "from google.colab import drive\n",
        "drive.mount('/content/drive')\n",
        "%cd /content/drive/MyDrive/git/COMP551/projects/p1"
      ],
      "id": "fsHVc8uJC93c",
      "execution_count": 1,
      "outputs": [
        {
          "output_type": "stream",
          "name": "stdout",
          "text": [
            "Mounted at /content/drive\n",
            "/content/drive/MyDrive/git/COMP551/projects/p1\n"
          ]
        }
      ]
    },
    {
      "cell_type": "code",
      "metadata": {
        "id": "f912e619"
      },
      "source": [
        "## Imports and Setup\n",
        "\n",
        "import pandas as pd\n",
        "import numpy as np\n",
        "import time\n",
        "import matplotlib.pyplot as plt\n",
        "%matplotlib notebook\n",
        "%matplotlib inline\n",
        "\n",
        "# other py files\n",
        "import my_validation\n",
        "import my_preprocessing\n",
        "\n",
        "pd.set_option('display.max_columns', None)\n",
        "pd.set_option('display.max_rows', 100)\n",
        "np.random.seed(1234)"
      ],
      "id": "f912e619",
      "execution_count": 17,
      "outputs": []
    },
    {
      "cell_type": "markdown",
      "metadata": {
        "id": "5f627d5e"
      },
      "source": [
        "## Data Preprocessing"
      ],
      "id": "5f627d5e"
    },
    {
      "cell_type": "markdown",
      "metadata": {
        "id": "e26715b4"
      },
      "source": [
        "### 1. Import Data\n",
        "\n",
        "It is indicated in the letter-recognition.names file that there are no missing attribute values in the dataset. Hence, no imputation is required.\n",
        "\n",
        "All the features are integers so no one-hot-encoding is required."
      ],
      "id": "e26715b4"
    },
    {
      "cell_type": "code",
      "metadata": {
        "id": "c8dd1d40",
        "outputId": "3ad258d1-5ecb-4666-cbd9-a449ab4d5791",
        "colab": {
          "base_uri": "https://localhost:8080/",
          "height": 419
        }
      },
      "source": [
        "\n",
        "columns = ['lettr', 'x-box', 'y-box', 'width', 'high', 'onpix', 'x-bar', 'y-bar', 'x2bar', 'y2bar', 'xybar', 'x2ybr', 'xy2br', 'x-ege', 'xegvy', 'y-ege', 'yegvx']\n",
        "df = pd.read_csv(\"data/letter-recognition.data\", usecols = range(15), names = columns)\n",
        "display(df)"
      ],
      "id": "c8dd1d40",
      "execution_count": 18,
      "outputs": [
        {
          "output_type": "display_data",
          "data": {
            "text/html": [
              "<div>\n",
              "<style scoped>\n",
              "    .dataframe tbody tr th:only-of-type {\n",
              "        vertical-align: middle;\n",
              "    }\n",
              "\n",
              "    .dataframe tbody tr th {\n",
              "        vertical-align: top;\n",
              "    }\n",
              "\n",
              "    .dataframe thead th {\n",
              "        text-align: right;\n",
              "    }\n",
              "</style>\n",
              "<table border=\"1\" class=\"dataframe\">\n",
              "  <thead>\n",
              "    <tr style=\"text-align: right;\">\n",
              "      <th></th>\n",
              "      <th>lettr</th>\n",
              "      <th>x-box</th>\n",
              "      <th>y-box</th>\n",
              "      <th>width</th>\n",
              "      <th>high</th>\n",
              "      <th>onpix</th>\n",
              "      <th>x-bar</th>\n",
              "      <th>y-bar</th>\n",
              "      <th>x2bar</th>\n",
              "      <th>y2bar</th>\n",
              "      <th>xybar</th>\n",
              "      <th>x2ybr</th>\n",
              "      <th>xy2br</th>\n",
              "      <th>x-ege</th>\n",
              "      <th>xegvy</th>\n",
              "    </tr>\n",
              "  </thead>\n",
              "  <tbody>\n",
              "    <tr>\n",
              "      <th>0</th>\n",
              "      <td>T</td>\n",
              "      <td>2</td>\n",
              "      <td>8</td>\n",
              "      <td>3</td>\n",
              "      <td>5</td>\n",
              "      <td>1</td>\n",
              "      <td>8</td>\n",
              "      <td>13</td>\n",
              "      <td>0</td>\n",
              "      <td>6</td>\n",
              "      <td>6</td>\n",
              "      <td>10</td>\n",
              "      <td>8</td>\n",
              "      <td>0</td>\n",
              "      <td>8</td>\n",
              "    </tr>\n",
              "    <tr>\n",
              "      <th>1</th>\n",
              "      <td>I</td>\n",
              "      <td>5</td>\n",
              "      <td>12</td>\n",
              "      <td>3</td>\n",
              "      <td>7</td>\n",
              "      <td>2</td>\n",
              "      <td>10</td>\n",
              "      <td>5</td>\n",
              "      <td>5</td>\n",
              "      <td>4</td>\n",
              "      <td>13</td>\n",
              "      <td>3</td>\n",
              "      <td>9</td>\n",
              "      <td>2</td>\n",
              "      <td>8</td>\n",
              "    </tr>\n",
              "    <tr>\n",
              "      <th>2</th>\n",
              "      <td>D</td>\n",
              "      <td>4</td>\n",
              "      <td>11</td>\n",
              "      <td>6</td>\n",
              "      <td>8</td>\n",
              "      <td>6</td>\n",
              "      <td>10</td>\n",
              "      <td>6</td>\n",
              "      <td>2</td>\n",
              "      <td>6</td>\n",
              "      <td>10</td>\n",
              "      <td>3</td>\n",
              "      <td>7</td>\n",
              "      <td>3</td>\n",
              "      <td>7</td>\n",
              "    </tr>\n",
              "    <tr>\n",
              "      <th>3</th>\n",
              "      <td>N</td>\n",
              "      <td>7</td>\n",
              "      <td>11</td>\n",
              "      <td>6</td>\n",
              "      <td>6</td>\n",
              "      <td>3</td>\n",
              "      <td>5</td>\n",
              "      <td>9</td>\n",
              "      <td>4</td>\n",
              "      <td>6</td>\n",
              "      <td>4</td>\n",
              "      <td>4</td>\n",
              "      <td>10</td>\n",
              "      <td>6</td>\n",
              "      <td>10</td>\n",
              "    </tr>\n",
              "    <tr>\n",
              "      <th>4</th>\n",
              "      <td>G</td>\n",
              "      <td>2</td>\n",
              "      <td>1</td>\n",
              "      <td>3</td>\n",
              "      <td>1</td>\n",
              "      <td>1</td>\n",
              "      <td>8</td>\n",
              "      <td>6</td>\n",
              "      <td>6</td>\n",
              "      <td>6</td>\n",
              "      <td>6</td>\n",
              "      <td>5</td>\n",
              "      <td>9</td>\n",
              "      <td>1</td>\n",
              "      <td>7</td>\n",
              "    </tr>\n",
              "    <tr>\n",
              "      <th>...</th>\n",
              "      <td>...</td>\n",
              "      <td>...</td>\n",
              "      <td>...</td>\n",
              "      <td>...</td>\n",
              "      <td>...</td>\n",
              "      <td>...</td>\n",
              "      <td>...</td>\n",
              "      <td>...</td>\n",
              "      <td>...</td>\n",
              "      <td>...</td>\n",
              "      <td>...</td>\n",
              "      <td>...</td>\n",
              "      <td>...</td>\n",
              "      <td>...</td>\n",
              "      <td>...</td>\n",
              "    </tr>\n",
              "    <tr>\n",
              "      <th>19995</th>\n",
              "      <td>D</td>\n",
              "      <td>2</td>\n",
              "      <td>2</td>\n",
              "      <td>3</td>\n",
              "      <td>3</td>\n",
              "      <td>2</td>\n",
              "      <td>7</td>\n",
              "      <td>7</td>\n",
              "      <td>7</td>\n",
              "      <td>6</td>\n",
              "      <td>6</td>\n",
              "      <td>6</td>\n",
              "      <td>4</td>\n",
              "      <td>2</td>\n",
              "      <td>8</td>\n",
              "    </tr>\n",
              "    <tr>\n",
              "      <th>19996</th>\n",
              "      <td>C</td>\n",
              "      <td>7</td>\n",
              "      <td>10</td>\n",
              "      <td>8</td>\n",
              "      <td>8</td>\n",
              "      <td>4</td>\n",
              "      <td>4</td>\n",
              "      <td>8</td>\n",
              "      <td>6</td>\n",
              "      <td>9</td>\n",
              "      <td>12</td>\n",
              "      <td>9</td>\n",
              "      <td>13</td>\n",
              "      <td>2</td>\n",
              "      <td>9</td>\n",
              "    </tr>\n",
              "    <tr>\n",
              "      <th>19997</th>\n",
              "      <td>T</td>\n",
              "      <td>6</td>\n",
              "      <td>9</td>\n",
              "      <td>6</td>\n",
              "      <td>7</td>\n",
              "      <td>5</td>\n",
              "      <td>6</td>\n",
              "      <td>11</td>\n",
              "      <td>3</td>\n",
              "      <td>7</td>\n",
              "      <td>11</td>\n",
              "      <td>9</td>\n",
              "      <td>5</td>\n",
              "      <td>2</td>\n",
              "      <td>12</td>\n",
              "    </tr>\n",
              "    <tr>\n",
              "      <th>19998</th>\n",
              "      <td>S</td>\n",
              "      <td>2</td>\n",
              "      <td>3</td>\n",
              "      <td>4</td>\n",
              "      <td>2</td>\n",
              "      <td>1</td>\n",
              "      <td>8</td>\n",
              "      <td>7</td>\n",
              "      <td>2</td>\n",
              "      <td>6</td>\n",
              "      <td>10</td>\n",
              "      <td>6</td>\n",
              "      <td>8</td>\n",
              "      <td>1</td>\n",
              "      <td>9</td>\n",
              "    </tr>\n",
              "    <tr>\n",
              "      <th>19999</th>\n",
              "      <td>A</td>\n",
              "      <td>4</td>\n",
              "      <td>9</td>\n",
              "      <td>6</td>\n",
              "      <td>6</td>\n",
              "      <td>2</td>\n",
              "      <td>9</td>\n",
              "      <td>5</td>\n",
              "      <td>3</td>\n",
              "      <td>1</td>\n",
              "      <td>8</td>\n",
              "      <td>1</td>\n",
              "      <td>8</td>\n",
              "      <td>2</td>\n",
              "      <td>7</td>\n",
              "    </tr>\n",
              "  </tbody>\n",
              "</table>\n",
              "<p>20000 rows × 15 columns</p>\n",
              "</div>"
            ],
            "text/plain": [
              "      lettr  x-box  y-box  width  high  onpix  x-bar  y-bar  x2bar  y2bar  \\\n",
              "0         T      2      8      3     5      1      8     13      0      6   \n",
              "1         I      5     12      3     7      2     10      5      5      4   \n",
              "2         D      4     11      6     8      6     10      6      2      6   \n",
              "3         N      7     11      6     6      3      5      9      4      6   \n",
              "4         G      2      1      3     1      1      8      6      6      6   \n",
              "...     ...    ...    ...    ...   ...    ...    ...    ...    ...    ...   \n",
              "19995     D      2      2      3     3      2      7      7      7      6   \n",
              "19996     C      7     10      8     8      4      4      8      6      9   \n",
              "19997     T      6      9      6     7      5      6     11      3      7   \n",
              "19998     S      2      3      4     2      1      8      7      2      6   \n",
              "19999     A      4      9      6     6      2      9      5      3      1   \n",
              "\n",
              "       xybar  x2ybr  xy2br  x-ege  xegvy  \n",
              "0          6     10      8      0      8  \n",
              "1         13      3      9      2      8  \n",
              "2         10      3      7      3      7  \n",
              "3          4      4     10      6     10  \n",
              "4          6      5      9      1      7  \n",
              "...      ...    ...    ...    ...    ...  \n",
              "19995      6      6      4      2      8  \n",
              "19996     12      9     13      2      9  \n",
              "19997     11      9      5      2     12  \n",
              "19998     10      6      8      1      9  \n",
              "19999      8      1      8      2      7  \n",
              "\n",
              "[20000 rows x 15 columns]"
            ]
          },
          "metadata": {}
        }
      ]
    },
    {
      "cell_type": "markdown",
      "metadata": {
        "id": "b9b8a6a7"
      },
      "source": [
        "### 2. Split Train Test"
      ],
      "id": "b9b8a6a7"
    },
    {
      "cell_type": "code",
      "metadata": {
        "id": "44475d27"
      },
      "source": [
        "from sklearn.model_selection import train_test_split\n",
        "\n",
        "num_instances = df.shape[0]\n",
        "num_train = int(0.8 * num_instances)\n",
        "\n",
        "# shuffle dataset\n",
        "df = df.sample(frac=1)\n",
        "\n",
        "x_train_df, x_test_df, y_train_df, y_test_df = df.iloc[:num_train,1:], df.iloc[num_train:,1:], df.iloc[:num_train,0], df.iloc[num_train:,0]"
      ],
      "id": "44475d27",
      "execution_count": 19,
      "outputs": []
    },
    {
      "cell_type": "markdown",
      "metadata": {
        "id": "ewPRjFPYDe0r"
      },
      "source": [
        "### 3. Normalization\n"
      ],
      "id": "ewPRjFPYDe0r"
    },
    {
      "cell_type": "code",
      "metadata": {
        "id": "mSVlrwtYDwPO",
        "outputId": "041528e7-8d54-479d-f950-e498e11b7e5f",
        "colab": {
          "base_uri": "https://localhost:8080/",
          "height": 821
        }
      },
      "source": [
        "x_train_df =(x_train_df-x_train_df.min())/(x_train_df.max()-x_train_df.min())\n",
        "x_test_df =(x_test_df-x_test_df.min())/(x_test_df.max()-x_test_df.min())\n",
        "display(x_train_df)\n",
        "display(x_test_df)\n"
      ],
      "id": "mSVlrwtYDwPO",
      "execution_count": 20,
      "outputs": [
        {
          "output_type": "display_data",
          "data": {
            "text/html": [
              "<div>\n",
              "<style scoped>\n",
              "    .dataframe tbody tr th:only-of-type {\n",
              "        vertical-align: middle;\n",
              "    }\n",
              "\n",
              "    .dataframe tbody tr th {\n",
              "        vertical-align: top;\n",
              "    }\n",
              "\n",
              "    .dataframe thead th {\n",
              "        text-align: right;\n",
              "    }\n",
              "</style>\n",
              "<table border=\"1\" class=\"dataframe\">\n",
              "  <thead>\n",
              "    <tr style=\"text-align: right;\">\n",
              "      <th></th>\n",
              "      <th>x-box</th>\n",
              "      <th>y-box</th>\n",
              "      <th>width</th>\n",
              "      <th>high</th>\n",
              "      <th>onpix</th>\n",
              "      <th>x-bar</th>\n",
              "      <th>y-bar</th>\n",
              "      <th>x2bar</th>\n",
              "      <th>y2bar</th>\n",
              "      <th>xybar</th>\n",
              "      <th>x2ybr</th>\n",
              "      <th>xy2br</th>\n",
              "      <th>x-ege</th>\n",
              "      <th>xegvy</th>\n",
              "    </tr>\n",
              "  </thead>\n",
              "  <tbody>\n",
              "    <tr>\n",
              "      <th>18172</th>\n",
              "      <td>0.200000</td>\n",
              "      <td>0.400000</td>\n",
              "      <td>0.266667</td>\n",
              "      <td>0.266667</td>\n",
              "      <td>0.266667</td>\n",
              "      <td>0.466667</td>\n",
              "      <td>0.333333</td>\n",
              "      <td>0.666667</td>\n",
              "      <td>0.000000</td>\n",
              "      <td>0.466667</td>\n",
              "      <td>0.533333</td>\n",
              "      <td>0.533333</td>\n",
              "      <td>0.400000</td>\n",
              "      <td>0.333333</td>\n",
              "    </tr>\n",
              "    <tr>\n",
              "      <th>16075</th>\n",
              "      <td>0.133333</td>\n",
              "      <td>0.533333</td>\n",
              "      <td>0.266667</td>\n",
              "      <td>0.400000</td>\n",
              "      <td>0.200000</td>\n",
              "      <td>0.466667</td>\n",
              "      <td>0.800000</td>\n",
              "      <td>0.200000</td>\n",
              "      <td>0.400000</td>\n",
              "      <td>0.466667</td>\n",
              "      <td>0.733333</td>\n",
              "      <td>0.533333</td>\n",
              "      <td>0.133333</td>\n",
              "      <td>0.800000</td>\n",
              "    </tr>\n",
              "    <tr>\n",
              "      <th>15388</th>\n",
              "      <td>0.133333</td>\n",
              "      <td>0.333333</td>\n",
              "      <td>0.266667</td>\n",
              "      <td>0.266667</td>\n",
              "      <td>0.133333</td>\n",
              "      <td>0.533333</td>\n",
              "      <td>0.400000</td>\n",
              "      <td>0.200000</td>\n",
              "      <td>0.333333</td>\n",
              "      <td>0.933333</td>\n",
              "      <td>0.400000</td>\n",
              "      <td>0.666667</td>\n",
              "      <td>0.066667</td>\n",
              "      <td>0.400000</td>\n",
              "    </tr>\n",
              "    <tr>\n",
              "      <th>13842</th>\n",
              "      <td>0.066667</td>\n",
              "      <td>0.066667</td>\n",
              "      <td>0.133333</td>\n",
              "      <td>0.066667</td>\n",
              "      <td>0.000000</td>\n",
              "      <td>0.266667</td>\n",
              "      <td>0.400000</td>\n",
              "      <td>0.400000</td>\n",
              "      <td>0.133333</td>\n",
              "      <td>0.466667</td>\n",
              "      <td>0.400000</td>\n",
              "      <td>0.733333</td>\n",
              "      <td>0.200000</td>\n",
              "      <td>0.533333</td>\n",
              "    </tr>\n",
              "    <tr>\n",
              "      <th>8610</th>\n",
              "      <td>0.133333</td>\n",
              "      <td>0.266667</td>\n",
              "      <td>0.266667</td>\n",
              "      <td>0.200000</td>\n",
              "      <td>0.200000</td>\n",
              "      <td>0.400000</td>\n",
              "      <td>0.466667</td>\n",
              "      <td>0.066667</td>\n",
              "      <td>0.400000</td>\n",
              "      <td>0.666667</td>\n",
              "      <td>0.466667</td>\n",
              "      <td>0.666667</td>\n",
              "      <td>0.200000</td>\n",
              "      <td>0.533333</td>\n",
              "    </tr>\n",
              "    <tr>\n",
              "      <th>...</th>\n",
              "      <td>...</td>\n",
              "      <td>...</td>\n",
              "      <td>...</td>\n",
              "      <td>...</td>\n",
              "      <td>...</td>\n",
              "      <td>...</td>\n",
              "      <td>...</td>\n",
              "      <td>...</td>\n",
              "      <td>...</td>\n",
              "      <td>...</td>\n",
              "      <td>...</td>\n",
              "      <td>...</td>\n",
              "      <td>...</td>\n",
              "      <td>...</td>\n",
              "    </tr>\n",
              "    <tr>\n",
              "      <th>3142</th>\n",
              "      <td>0.066667</td>\n",
              "      <td>0.066667</td>\n",
              "      <td>0.066667</td>\n",
              "      <td>0.200000</td>\n",
              "      <td>0.000000</td>\n",
              "      <td>0.466667</td>\n",
              "      <td>0.466667</td>\n",
              "      <td>0.066667</td>\n",
              "      <td>0.533333</td>\n",
              "      <td>0.466667</td>\n",
              "      <td>0.400000</td>\n",
              "      <td>0.533333</td>\n",
              "      <td>0.000000</td>\n",
              "      <td>0.533333</td>\n",
              "    </tr>\n",
              "    <tr>\n",
              "      <th>15882</th>\n",
              "      <td>0.400000</td>\n",
              "      <td>0.533333</td>\n",
              "      <td>0.600000</td>\n",
              "      <td>0.666667</td>\n",
              "      <td>0.600000</td>\n",
              "      <td>0.466667</td>\n",
              "      <td>0.266667</td>\n",
              "      <td>0.266667</td>\n",
              "      <td>0.133333</td>\n",
              "      <td>0.400000</td>\n",
              "      <td>0.266667</td>\n",
              "      <td>0.400000</td>\n",
              "      <td>0.533333</td>\n",
              "      <td>0.400000</td>\n",
              "    </tr>\n",
              "    <tr>\n",
              "      <th>9666</th>\n",
              "      <td>0.200000</td>\n",
              "      <td>0.400000</td>\n",
              "      <td>0.266667</td>\n",
              "      <td>0.333333</td>\n",
              "      <td>0.200000</td>\n",
              "      <td>0.533333</td>\n",
              "      <td>0.533333</td>\n",
              "      <td>0.466667</td>\n",
              "      <td>0.333333</td>\n",
              "      <td>0.400000</td>\n",
              "      <td>0.400000</td>\n",
              "      <td>0.600000</td>\n",
              "      <td>0.133333</td>\n",
              "      <td>0.533333</td>\n",
              "    </tr>\n",
              "    <tr>\n",
              "      <th>18455</th>\n",
              "      <td>0.400000</td>\n",
              "      <td>0.666667</td>\n",
              "      <td>0.533333</td>\n",
              "      <td>0.533333</td>\n",
              "      <td>0.600000</td>\n",
              "      <td>0.400000</td>\n",
              "      <td>0.466667</td>\n",
              "      <td>0.266667</td>\n",
              "      <td>0.400000</td>\n",
              "      <td>0.466667</td>\n",
              "      <td>0.466667</td>\n",
              "      <td>0.666667</td>\n",
              "      <td>0.466667</td>\n",
              "      <td>0.466667</td>\n",
              "    </tr>\n",
              "    <tr>\n",
              "      <th>15697</th>\n",
              "      <td>0.133333</td>\n",
              "      <td>0.200000</td>\n",
              "      <td>0.133333</td>\n",
              "      <td>0.066667</td>\n",
              "      <td>0.066667</td>\n",
              "      <td>0.333333</td>\n",
              "      <td>0.666667</td>\n",
              "      <td>0.133333</td>\n",
              "      <td>0.466667</td>\n",
              "      <td>0.666667</td>\n",
              "      <td>0.600000</td>\n",
              "      <td>0.266667</td>\n",
              "      <td>0.066667</td>\n",
              "      <td>0.733333</td>\n",
              "    </tr>\n",
              "  </tbody>\n",
              "</table>\n",
              "<p>16000 rows × 14 columns</p>\n",
              "</div>"
            ],
            "text/plain": [
              "          x-box     y-box     width      high     onpix     x-bar     y-bar  \\\n",
              "18172  0.200000  0.400000  0.266667  0.266667  0.266667  0.466667  0.333333   \n",
              "16075  0.133333  0.533333  0.266667  0.400000  0.200000  0.466667  0.800000   \n",
              "15388  0.133333  0.333333  0.266667  0.266667  0.133333  0.533333  0.400000   \n",
              "13842  0.066667  0.066667  0.133333  0.066667  0.000000  0.266667  0.400000   \n",
              "8610   0.133333  0.266667  0.266667  0.200000  0.200000  0.400000  0.466667   \n",
              "...         ...       ...       ...       ...       ...       ...       ...   \n",
              "3142   0.066667  0.066667  0.066667  0.200000  0.000000  0.466667  0.466667   \n",
              "15882  0.400000  0.533333  0.600000  0.666667  0.600000  0.466667  0.266667   \n",
              "9666   0.200000  0.400000  0.266667  0.333333  0.200000  0.533333  0.533333   \n",
              "18455  0.400000  0.666667  0.533333  0.533333  0.600000  0.400000  0.466667   \n",
              "15697  0.133333  0.200000  0.133333  0.066667  0.066667  0.333333  0.666667   \n",
              "\n",
              "          x2bar     y2bar     xybar     x2ybr     xy2br     x-ege     xegvy  \n",
              "18172  0.666667  0.000000  0.466667  0.533333  0.533333  0.400000  0.333333  \n",
              "16075  0.200000  0.400000  0.466667  0.733333  0.533333  0.133333  0.800000  \n",
              "15388  0.200000  0.333333  0.933333  0.400000  0.666667  0.066667  0.400000  \n",
              "13842  0.400000  0.133333  0.466667  0.400000  0.733333  0.200000  0.533333  \n",
              "8610   0.066667  0.400000  0.666667  0.466667  0.666667  0.200000  0.533333  \n",
              "...         ...       ...       ...       ...       ...       ...       ...  \n",
              "3142   0.066667  0.533333  0.466667  0.400000  0.533333  0.000000  0.533333  \n",
              "15882  0.266667  0.133333  0.400000  0.266667  0.400000  0.533333  0.400000  \n",
              "9666   0.466667  0.333333  0.400000  0.400000  0.600000  0.133333  0.533333  \n",
              "18455  0.266667  0.400000  0.466667  0.466667  0.666667  0.466667  0.466667  \n",
              "15697  0.133333  0.466667  0.666667  0.600000  0.266667  0.066667  0.733333  \n",
              "\n",
              "[16000 rows x 14 columns]"
            ]
          },
          "metadata": {}
        },
        {
          "output_type": "display_data",
          "data": {
            "text/html": [
              "<div>\n",
              "<style scoped>\n",
              "    .dataframe tbody tr th:only-of-type {\n",
              "        vertical-align: middle;\n",
              "    }\n",
              "\n",
              "    .dataframe tbody tr th {\n",
              "        vertical-align: top;\n",
              "    }\n",
              "\n",
              "    .dataframe thead th {\n",
              "        text-align: right;\n",
              "    }\n",
              "</style>\n",
              "<table border=\"1\" class=\"dataframe\">\n",
              "  <thead>\n",
              "    <tr style=\"text-align: right;\">\n",
              "      <th></th>\n",
              "      <th>x-box</th>\n",
              "      <th>y-box</th>\n",
              "      <th>width</th>\n",
              "      <th>high</th>\n",
              "      <th>onpix</th>\n",
              "      <th>x-bar</th>\n",
              "      <th>y-bar</th>\n",
              "      <th>x2bar</th>\n",
              "      <th>y2bar</th>\n",
              "      <th>xybar</th>\n",
              "      <th>x2ybr</th>\n",
              "      <th>xy2br</th>\n",
              "      <th>x-ege</th>\n",
              "      <th>xegvy</th>\n",
              "    </tr>\n",
              "  </thead>\n",
              "  <tbody>\n",
              "    <tr>\n",
              "      <th>11353</th>\n",
              "      <td>0.333333</td>\n",
              "      <td>0.400000</td>\n",
              "      <td>0.333333</td>\n",
              "      <td>0.285714</td>\n",
              "      <td>0.266667</td>\n",
              "      <td>0.133333</td>\n",
              "      <td>0.733333</td>\n",
              "      <td>0.133333</td>\n",
              "      <td>0.200000</td>\n",
              "      <td>0.666667</td>\n",
              "      <td>0.666667</td>\n",
              "      <td>0.500000</td>\n",
              "      <td>0.357143</td>\n",
              "      <td>0.714286</td>\n",
              "    </tr>\n",
              "    <tr>\n",
              "      <th>14475</th>\n",
              "      <td>0.333333</td>\n",
              "      <td>0.400000</td>\n",
              "      <td>0.333333</td>\n",
              "      <td>0.571429</td>\n",
              "      <td>0.200000</td>\n",
              "      <td>0.200000</td>\n",
              "      <td>0.466667</td>\n",
              "      <td>0.400000</td>\n",
              "      <td>0.733333</td>\n",
              "      <td>0.466667</td>\n",
              "      <td>0.400000</td>\n",
              "      <td>1.000000</td>\n",
              "      <td>0.000000</td>\n",
              "      <td>0.500000</td>\n",
              "    </tr>\n",
              "    <tr>\n",
              "      <th>8297</th>\n",
              "      <td>0.266667</td>\n",
              "      <td>0.600000</td>\n",
              "      <td>0.266667</td>\n",
              "      <td>0.428571</td>\n",
              "      <td>0.133333</td>\n",
              "      <td>0.200000</td>\n",
              "      <td>0.466667</td>\n",
              "      <td>0.466667</td>\n",
              "      <td>0.133333</td>\n",
              "      <td>0.466667</td>\n",
              "      <td>0.400000</td>\n",
              "      <td>0.714286</td>\n",
              "      <td>0.214286</td>\n",
              "      <td>0.500000</td>\n",
              "    </tr>\n",
              "    <tr>\n",
              "      <th>2422</th>\n",
              "      <td>0.200000</td>\n",
              "      <td>0.400000</td>\n",
              "      <td>0.200000</td>\n",
              "      <td>0.285714</td>\n",
              "      <td>0.133333</td>\n",
              "      <td>0.400000</td>\n",
              "      <td>0.533333</td>\n",
              "      <td>0.666667</td>\n",
              "      <td>0.533333</td>\n",
              "      <td>0.466667</td>\n",
              "      <td>0.466667</td>\n",
              "      <td>0.357143</td>\n",
              "      <td>0.214286</td>\n",
              "      <td>0.500000</td>\n",
              "    </tr>\n",
              "    <tr>\n",
              "      <th>3092</th>\n",
              "      <td>0.133333</td>\n",
              "      <td>0.066667</td>\n",
              "      <td>0.200000</td>\n",
              "      <td>0.142857</td>\n",
              "      <td>0.133333</td>\n",
              "      <td>0.466667</td>\n",
              "      <td>0.466667</td>\n",
              "      <td>0.333333</td>\n",
              "      <td>0.600000</td>\n",
              "      <td>0.400000</td>\n",
              "      <td>0.400000</td>\n",
              "      <td>0.500000</td>\n",
              "      <td>0.071429</td>\n",
              "      <td>0.500000</td>\n",
              "    </tr>\n",
              "    <tr>\n",
              "      <th>...</th>\n",
              "      <td>...</td>\n",
              "      <td>...</td>\n",
              "      <td>...</td>\n",
              "      <td>...</td>\n",
              "      <td>...</td>\n",
              "      <td>...</td>\n",
              "      <td>...</td>\n",
              "      <td>...</td>\n",
              "      <td>...</td>\n",
              "      <td>...</td>\n",
              "      <td>...</td>\n",
              "      <td>...</td>\n",
              "      <td>...</td>\n",
              "      <td>...</td>\n",
              "    </tr>\n",
              "    <tr>\n",
              "      <th>8222</th>\n",
              "      <td>0.200000</td>\n",
              "      <td>0.200000</td>\n",
              "      <td>0.200000</td>\n",
              "      <td>0.357143</td>\n",
              "      <td>0.133333</td>\n",
              "      <td>0.333333</td>\n",
              "      <td>0.466667</td>\n",
              "      <td>0.666667</td>\n",
              "      <td>0.466667</td>\n",
              "      <td>0.466667</td>\n",
              "      <td>0.400000</td>\n",
              "      <td>0.285714</td>\n",
              "      <td>0.214286</td>\n",
              "      <td>0.500000</td>\n",
              "    </tr>\n",
              "    <tr>\n",
              "      <th>9449</th>\n",
              "      <td>0.133333</td>\n",
              "      <td>0.133333</td>\n",
              "      <td>0.200000</td>\n",
              "      <td>0.214286</td>\n",
              "      <td>0.200000</td>\n",
              "      <td>0.533333</td>\n",
              "      <td>0.533333</td>\n",
              "      <td>0.400000</td>\n",
              "      <td>0.400000</td>\n",
              "      <td>0.466667</td>\n",
              "      <td>0.400000</td>\n",
              "      <td>0.428571</td>\n",
              "      <td>0.214286</td>\n",
              "      <td>0.500000</td>\n",
              "    </tr>\n",
              "    <tr>\n",
              "      <th>8471</th>\n",
              "      <td>0.133333</td>\n",
              "      <td>0.200000</td>\n",
              "      <td>0.200000</td>\n",
              "      <td>0.142857</td>\n",
              "      <td>0.133333</td>\n",
              "      <td>0.333333</td>\n",
              "      <td>0.466667</td>\n",
              "      <td>0.266667</td>\n",
              "      <td>0.466667</td>\n",
              "      <td>0.466667</td>\n",
              "      <td>0.400000</td>\n",
              "      <td>0.714286</td>\n",
              "      <td>0.214286</td>\n",
              "      <td>0.500000</td>\n",
              "    </tr>\n",
              "    <tr>\n",
              "      <th>17048</th>\n",
              "      <td>0.333333</td>\n",
              "      <td>0.666667</td>\n",
              "      <td>0.400000</td>\n",
              "      <td>0.500000</td>\n",
              "      <td>0.200000</td>\n",
              "      <td>0.533333</td>\n",
              "      <td>0.466667</td>\n",
              "      <td>0.533333</td>\n",
              "      <td>0.533333</td>\n",
              "      <td>0.400000</td>\n",
              "      <td>0.466667</td>\n",
              "      <td>0.571429</td>\n",
              "      <td>0.142857</td>\n",
              "      <td>0.428571</td>\n",
              "    </tr>\n",
              "    <tr>\n",
              "      <th>1318</th>\n",
              "      <td>0.133333</td>\n",
              "      <td>0.266667</td>\n",
              "      <td>0.200000</td>\n",
              "      <td>0.214286</td>\n",
              "      <td>0.133333</td>\n",
              "      <td>0.400000</td>\n",
              "      <td>0.466667</td>\n",
              "      <td>0.333333</td>\n",
              "      <td>0.266667</td>\n",
              "      <td>0.600000</td>\n",
              "      <td>0.466667</td>\n",
              "      <td>0.642857</td>\n",
              "      <td>0.142857</td>\n",
              "      <td>0.571429</td>\n",
              "    </tr>\n",
              "  </tbody>\n",
              "</table>\n",
              "<p>4000 rows × 14 columns</p>\n",
              "</div>"
            ],
            "text/plain": [
              "          x-box     y-box     width      high     onpix     x-bar     y-bar  \\\n",
              "11353  0.333333  0.400000  0.333333  0.285714  0.266667  0.133333  0.733333   \n",
              "14475  0.333333  0.400000  0.333333  0.571429  0.200000  0.200000  0.466667   \n",
              "8297   0.266667  0.600000  0.266667  0.428571  0.133333  0.200000  0.466667   \n",
              "2422   0.200000  0.400000  0.200000  0.285714  0.133333  0.400000  0.533333   \n",
              "3092   0.133333  0.066667  0.200000  0.142857  0.133333  0.466667  0.466667   \n",
              "...         ...       ...       ...       ...       ...       ...       ...   \n",
              "8222   0.200000  0.200000  0.200000  0.357143  0.133333  0.333333  0.466667   \n",
              "9449   0.133333  0.133333  0.200000  0.214286  0.200000  0.533333  0.533333   \n",
              "8471   0.133333  0.200000  0.200000  0.142857  0.133333  0.333333  0.466667   \n",
              "17048  0.333333  0.666667  0.400000  0.500000  0.200000  0.533333  0.466667   \n",
              "1318   0.133333  0.266667  0.200000  0.214286  0.133333  0.400000  0.466667   \n",
              "\n",
              "          x2bar     y2bar     xybar     x2ybr     xy2br     x-ege     xegvy  \n",
              "11353  0.133333  0.200000  0.666667  0.666667  0.500000  0.357143  0.714286  \n",
              "14475  0.400000  0.733333  0.466667  0.400000  1.000000  0.000000  0.500000  \n",
              "8297   0.466667  0.133333  0.466667  0.400000  0.714286  0.214286  0.500000  \n",
              "2422   0.666667  0.533333  0.466667  0.466667  0.357143  0.214286  0.500000  \n",
              "3092   0.333333  0.600000  0.400000  0.400000  0.500000  0.071429  0.500000  \n",
              "...         ...       ...       ...       ...       ...       ...       ...  \n",
              "8222   0.666667  0.466667  0.466667  0.400000  0.285714  0.214286  0.500000  \n",
              "9449   0.400000  0.400000  0.466667  0.400000  0.428571  0.214286  0.500000  \n",
              "8471   0.266667  0.466667  0.466667  0.400000  0.714286  0.214286  0.500000  \n",
              "17048  0.533333  0.533333  0.400000  0.466667  0.571429  0.142857  0.428571  \n",
              "1318   0.333333  0.266667  0.600000  0.466667  0.642857  0.142857  0.571429  \n",
              "\n",
              "[4000 rows x 14 columns]"
            ]
          },
          "metadata": {}
        }
      ]
    },
    {
      "cell_type": "markdown",
      "metadata": {
        "id": "8aaa1d81"
      },
      "source": [
        "### 3. Gradient Boosting"
      ],
      "id": "8aaa1d81"
    },
    {
      "cell_type": "code",
      "metadata": {
        "id": "2df6c411",
        "outputId": "278d24aa-274d-445d-e4a8-c9214f45710e",
        "colab": {
          "base_uri": "https://localhost:8080/",
          "height": 295
        }
      },
      "source": [
        "from numpy import loadtxt\n",
        "from xgboost import XGBClassifier\n",
        "from xgboost import plot_importance\n",
        "\n",
        "# fit model no training data\n",
        "model = XGBClassifier()\n",
        "model.fit(x_train_df, y_train_df)\n",
        "# plot feature importance\n",
        "plot_importance(model)\n",
        "plt.show()"
      ],
      "id": "2df6c411",
      "execution_count": 22,
      "outputs": [
        {
          "output_type": "display_data",
          "data": {
            "image/png": "[encoded data removed]",
            "text/plain": [
              "<Figure size 432x288 with 1 Axes>"
            ]
          },
          "metadata": {
            "needs_background": "light"
          }
        }
      ]
    },
    {
      "cell_type": "markdown",
      "metadata": {
        "id": "d4703c0c"
      },
      "source": [
        "## Experiments"
      ],
      "id": "d4703c0c"
    },
    {
      "cell_type": "markdown",
      "metadata": {
        "id": "fba60b2f"
      },
      "source": [
        "### 1. KNN"
      ],
      "id": "fba60b2f"
    },
    {
      "cell_type": "code",
      "metadata": {
        "id": "571fb5f8"
      },
      "source": [
        "from sklearn.neighbors import KNeighborsClassifier\n",
        "\n",
        "# number of folds for L-fold cross-validation\n",
        "L = 5\n",
        "\n",
        "# range of number of nearest neighbors (K)\n",
        "K_list = range(1,31) # [1,2,...,30]"
      ],
      "id": "571fb5f8",
      "execution_count": null,
      "outputs": []
    },
    {
      "cell_type": "markdown",
      "metadata": {
        "id": "ba743a0c"
      },
      "source": [
        "#### Cross-Validation"
      ],
      "id": "ba743a0c"
    },
    {
      "cell_type": "code",
      "metadata": {
        "id": "fd5cf05d",
        "outputId": "c44ac550-f3aa-413b-b316-f407172e830c"
      },
      "source": [
        "# knn cross-validation on full dataset\n",
        "err_val_matrix, err_train_matrix = my_validation.knn_cross_validation(x_train, y_train, K_list, L, my_validation.error_rate)\n",
        "err_val_means = np.mean(err_val_matrix, axis=1)\n",
        "\n",
        "# Visualize\n",
        "plt.title('Error Rate of KNN for Different K Values with Full Dataset')\n",
        "plt.plot(K_list, np.mean(err_train_matrix, axis=1),  label='train')\n",
        "plt.errorbar(K_list, err_val_means, np.std(err_val_matrix, axis=1), label='validation')\n",
        "plt.legend()\n",
        "plt.xlabel('K (number of neighbours)')\n",
        "plt.ylabel('Error Rate')\n",
        "plt.ylim(0,0.5)\n",
        "plt.show()\n",
        "\n",
        "# The best K parameter is the one providing the smallest error rate\n",
        "best_k = K_list[np.argmin(err_val_means)]\n",
        "print(\"Best K parameter: {k}\".format(k=best_k))"
      ],
      "id": "fd5cf05d",
      "execution_count": null,
      "outputs": [
        {
          "ename": "NameError",
          "evalue": "name 'err_matrix' is not defined",
          "output_type": "error",
          "traceback": [
            "\u001b[0;31m---------------------------------------------------------------------------\u001b[0m",
            "\u001b[0;31mNameError\u001b[0m                                 Traceback (most recent call last)",
            "\u001b[0;32m<ipython-input-6-61895fcbbbab>\u001b[0m in \u001b[0;36m<module>\u001b[0;34m\u001b[0m\n\u001b[1;32m      6\u001b[0m \u001b[0mplt\u001b[0m\u001b[0;34m.\u001b[0m\u001b[0mtitle\u001b[0m\u001b[0;34m(\u001b[0m\u001b[0;34m'Error Rate of KNN for Different K Values with Full Dataset'\u001b[0m\u001b[0;34m)\u001b[0m\u001b[0;34m\u001b[0m\u001b[0;34m\u001b[0m\u001b[0m\n\u001b[1;32m      7\u001b[0m \u001b[0mplt\u001b[0m\u001b[0;34m.\u001b[0m\u001b[0mplot\u001b[0m\u001b[0;34m(\u001b[0m\u001b[0mK_list\u001b[0m\u001b[0;34m,\u001b[0m \u001b[0mnp\u001b[0m\u001b[0;34m.\u001b[0m\u001b[0mmean\u001b[0m\u001b[0;34m(\u001b[0m\u001b[0merr_train_matrix\u001b[0m\u001b[0;34m,\u001b[0m \u001b[0maxis\u001b[0m\u001b[0;34m=\u001b[0m\u001b[0;36m1\u001b[0m\u001b[0;34m)\u001b[0m\u001b[0;34m,\u001b[0m  \u001b[0mlabel\u001b[0m\u001b[0;34m=\u001b[0m\u001b[0;34m'train'\u001b[0m\u001b[0;34m)\u001b[0m\u001b[0;34m\u001b[0m\u001b[0;34m\u001b[0m\u001b[0m\n\u001b[0;32m----> 8\u001b[0;31m \u001b[0mplt\u001b[0m\u001b[0;34m.\u001b[0m\u001b[0merrorbar\u001b[0m\u001b[0;34m(\u001b[0m\u001b[0mK_list\u001b[0m\u001b[0;34m,\u001b[0m \u001b[0mnp\u001b[0m\u001b[0;34m.\u001b[0m\u001b[0mmean\u001b[0m\u001b[0;34m(\u001b[0m\u001b[0merr_matrix\u001b[0m\u001b[0;34m,\u001b[0m \u001b[0maxis\u001b[0m\u001b[0;34m=\u001b[0m\u001b[0;36m1\u001b[0m\u001b[0;34m)\u001b[0m\u001b[0;34m,\u001b[0m \u001b[0mnp\u001b[0m\u001b[0;34m.\u001b[0m\u001b[0mstd\u001b[0m\u001b[0;34m(\u001b[0m\u001b[0merr_matrix\u001b[0m\u001b[0;34m,\u001b[0m \u001b[0maxis\u001b[0m\u001b[0;34m=\u001b[0m\u001b[0;36m1\u001b[0m\u001b[0;34m)\u001b[0m\u001b[0;34m,\u001b[0m \u001b[0mlabel\u001b[0m\u001b[0;34m=\u001b[0m\u001b[0;34m'validation'\u001b[0m\u001b[0;34m)\u001b[0m\u001b[0;34m\u001b[0m\u001b[0;34m\u001b[0m\u001b[0m\n\u001b[0m\u001b[1;32m      9\u001b[0m \u001b[0mplt\u001b[0m\u001b[0;34m.\u001b[0m\u001b[0mlegend\u001b[0m\u001b[0;34m(\u001b[0m\u001b[0;34m)\u001b[0m\u001b[0;34m\u001b[0m\u001b[0;34m\u001b[0m\u001b[0m\n\u001b[1;32m     10\u001b[0m \u001b[0mplt\u001b[0m\u001b[0;34m.\u001b[0m\u001b[0mxlabel\u001b[0m\u001b[0;34m(\u001b[0m\u001b[0;34m'K (number of neighbours)'\u001b[0m\u001b[0;34m)\u001b[0m\u001b[0;34m\u001b[0m\u001b[0;34m\u001b[0m\u001b[0m\n",
            "\u001b[0;31mNameError\u001b[0m: name 'err_matrix' is not defined"
          ]
        },
        {
          "data": {
            "image/png": "[encoded data removed]",
            "text/plain": [
              "<Figure size 432x288 with 1 Axes>"
            ]
          },
          "metadata": {
            "needs_background": "light"
          },
          "output_type": "display_data"
        }
      ]
    },
    {
      "cell_type": "markdown",
      "metadata": {
        "id": "8c5afc5b"
      },
      "source": [
        "#### Sample Growing Data\n",
        "\n",
        "Observe the effect of growing the sample size on the training and validation errors."
      ],
      "id": "8c5afc5b"
    },
    {
      "cell_type": "code",
      "metadata": {
        "id": "28d7be71"
      },
      "source": [
        "sizes = [100, 500, 1000, 5000]\n",
        "\n",
        "for s in sizes:\n",
        "    # select s random samples from train dataset\n",
        "    x_subset, y_subset = x_train[inds[:s]], y_train[inds[:s]]\n",
        "    \n",
        "    # apply cross validation to get validation and train accuracy matrices \n",
        "    err_val_matrix, err_train_matrix = my_validation.knn_cross_validation(x_subset, y_subset, K_list, L, my_validation.error_rate)\n",
        "    \n",
        "    err_val_means = np.mean(err_val_matrix, axis=1)\n",
        "    \n",
        "    plt.title('Error Rate of KNN for Varying K Values with {size} Samples'.format(size = s))\n",
        "    plt.plot(K_list, np.mean(err_train_matrix, axis=1),  label='train')\n",
        "    plt.errorbar(K_list, err_val_means, np.std(err_val_matrix, axis=1), label='validation')\n",
        "    plt.legend()\n",
        "    plt.xlabel('K (number of neighbours)')\n",
        "    plt.ylabel('error rate')\n",
        "    plt.ylim(0,0.5)\n",
        "    plt.show()"
      ],
      "id": "28d7be71",
      "execution_count": null,
      "outputs": []
    },
    {
      "cell_type": "markdown",
      "metadata": {
        "id": "e7cb79be"
      },
      "source": [
        "#### Use Best Parameter on Test Set"
      ],
      "id": "e7cb79be"
    },
    {
      "cell_type": "code",
      "metadata": {
        "id": "c7a8871c"
      },
      "source": [
        "model = KNeighborsClassifier(n_neighbors=best_k)\n",
        "start_time = time.time()\n",
        "model.fit(x_train, y_train)\n",
        "tr_end = time.time()\n",
        "tr_time = tr_end - start_time\n",
        "\n",
        "y_pred = model.predict(x_test)\n",
        "pr_end = time.time()\n",
        "pred_time = pr_end - tr_end\n",
        "\n",
        "err_rate = my_validation.error_rate(y_test, y_pred)\n",
        "\n",
        "print(\"Error Rate on Test Set: {err_rate}\".format(err_rate=err_rate))\n",
        "print(\"Training time: {tr_time}\".format(tr_time=tr_time))\n",
        "print(\"Prediction time: {pred_time}\".format(pred_time=pred_time))"
      ],
      "id": "c7a8871c",
      "execution_count": null,
      "outputs": []
    },
    {
      "cell_type": "markdown",
      "metadata": {
        "id": "416b4601"
      },
      "source": [
        "### 2. DECISION-TREE"
      ],
      "id": "416b4601"
    },
    {
      "cell_type": "code",
      "metadata": {
        "id": "180b6d8f"
      },
      "source": [
        "from sklearn.tree import DecisionTreeClassifier\n",
        "\n",
        "# Maximum tree depth hyper-parameter\n",
        "max_depth_list = list(range(1,31)) #1-30\n",
        "\n",
        "# Minimum samples per leaf parameter\n",
        "min_samples_per_leaf_list = list(range(1, 301, 5)) #1-300"
      ],
      "id": "180b6d8f",
      "execution_count": null,
      "outputs": []
    },
    {
      "cell_type": "markdown",
      "metadata": {
        "id": "402506c5"
      },
      "source": [
        "### For Maximum Depth Parameter"
      ],
      "id": "402506c5"
    },
    {
      "cell_type": "markdown",
      "metadata": {
        "id": "1b27f5c7"
      },
      "source": [
        "#### Cross-Validation"
      ],
      "id": "1b27f5c7"
    },
    {
      "cell_type": "code",
      "metadata": {
        "id": "d6af0692"
      },
      "source": [
        "# decision tree cross-validation on full dataset\n",
        "err_val_matrix, err_train_matrix = my_validation.dt_cross_validation(x_train, y_train, max_depth_list=max_depth_list, L=L, validation_metric_fn=my_validation.error_rate)\n",
        "err_val_means = np.mean(err_val_matrix, axis=1)\n",
        "\n",
        "# Visualize\n",
        "plt.title('Error Rate of Decision Tree for Different Maximum Depth Values with Full Dataset')\n",
        "plt.plot(max_depth_list, np.mean(err_train_matrix, axis=1),  label='train')\n",
        "plt.errorbar(max_depth_list, err_val_means, np.std(err_val_matrix, axis=1), label='validation')\n",
        "plt.legend()\n",
        "plt.xlabel('Maximum Depth')\n",
        "plt.ylabel('Error Rate')\n",
        "plt.ylim(0,0.5)\n",
        "plt.show()\n",
        "\n",
        "# The best K parameter is the one providing the smallest error rate\n",
        "best_max_depth = max_depth_list[np.argmin(err_val_means)]\n",
        "print(\"Best max depth parameter: {k}\".format(k=best_max_depth))"
      ],
      "id": "d6af0692",
      "execution_count": null,
      "outputs": []
    },
    {
      "cell_type": "markdown",
      "metadata": {
        "id": "73457589"
      },
      "source": [
        "#### Sample Growing Data\n",
        "\n",
        "Observe the effect of growing the sample size on the training and validation errors."
      ],
      "id": "73457589"
    },
    {
      "cell_type": "code",
      "metadata": {
        "id": "e13b98d6"
      },
      "source": [
        "sizes = [100, 500, 1000, 5000]\n",
        "\n",
        "for s in sizes:\n",
        "    # select s random samples from train dataset\n",
        "    x_subset, y_subset = x_train[inds[:s]], y_train[inds[:s]]\n",
        "    \n",
        "    # apply cross validation to get validation and train accuracy matrices \n",
        "    err_val_matrix, err_train_matrix = my_validation.dt_cross_validation(x_subset, y_subset, max_depth_list=max_depth_list, L=L, validation_metric_fn=my_validation.error_rate)\n",
        "    \n",
        "    err_val_means = np.mean(err_val_matrix, axis=1)\n",
        "    \n",
        "    plt.title('Error Rate of Decision Tree for Varying Max Depth Values with {size} Samples'.format(size = s))\n",
        "    plt.plot(max_depth_list, np.mean(err_train_matrix, axis=1),  label='train')\n",
        "    plt.errorbar(max_depth_list, err_val_means, np.std(err_val_matrix, axis=1), label='validation')\n",
        "    plt.legend()\n",
        "    plt.xlabel('Max Depth')\n",
        "    plt.ylabel('error rate')\n",
        "    plt.ylim(0,0.5)\n",
        "    plt.show()"
      ],
      "id": "e13b98d6",
      "execution_count": null,
      "outputs": []
    },
    {
      "cell_type": "markdown",
      "metadata": {
        "id": "301f4200"
      },
      "source": [
        "#### Use Best Combination of Hyper-Parameters"
      ],
      "id": "301f4200"
    },
    {
      "cell_type": "code",
      "metadata": {
        "id": "539fa519"
      },
      "source": [
        "model = DecisionTreeClassifier(max_depth=best_max_depth)\n",
        "start_time = time.time()\n",
        "model.fit(x_train, y_train)\n",
        "tr_end = time.time()\n",
        "tr_time = tr_end - start_time\n",
        "\n",
        "y_pred = model.predict(x_test)\n",
        "pr_end = time.time()\n",
        "pred_time = pr_end - tr_end\n",
        "\n",
        "print(\"Error Rate on Test Set: {err_rate}\".format(err_rate=err_rate))\n",
        "print(\"Training time: {tr_time}\".format(tr_time=tr_time))\n",
        "print(\"Prediction time: {pred_time}\".format(pred_time=pred_time))"
      ],
      "id": "539fa519",
      "execution_count": null,
      "outputs": []
    },
    {
      "cell_type": "markdown",
      "metadata": {
        "id": "7f6f7c18"
      },
      "source": [
        "### For Minimum Samples per Leaf Parameter"
      ],
      "id": "7f6f7c18"
    },
    {
      "cell_type": "markdown",
      "metadata": {
        "id": "5893c81d"
      },
      "source": [
        "\n",
        "\n",
        "#### Cross-Validation\n",
        "\n",
        "Vary the minimum samples per leaf, with a constant None max depth."
      ],
      "id": "5893c81d"
    },
    {
      "cell_type": "code",
      "metadata": {
        "id": "46c10075"
      },
      "source": [
        "# decision tree cross-validation on full dataset\n",
        "err_val_matrix, err_train_matrix = my_validation.dt_cross_validation(x_train, y_train, min_samples_per_leaf_list=min_samples_per_leaf_list, L=L, validation_metric_fn=my_validation.error_rate)\n",
        "err_val_means = np.mean(err_val_matrix, axis=1)\n",
        "\n",
        "# Visualize\n",
        "plt.title('Error Rate of Decision Tree for Different Minimum Samples per Leaf Values with Full Dataset')\n",
        "plt.plot(min_samples_per_leaf_list, np.mean(err_train_matrix, axis=1),  label='train')\n",
        "plt.errorbar(min_samples_per_leaf_list, err_val_means, np.std(err_val_matrix, axis=1), label='validation')\n",
        "plt.legend()\n",
        "plt.xlabel('Minimum Samples per Leaf')\n",
        "plt.ylabel('Error Rate')\n",
        "plt.ylim(0,0.5)\n",
        "plt.show()\n",
        "\n",
        "best_min_samples = min_samples_per_leaf_list[np.argmin(err_val_means)]\n",
        "print(\"Best min samples per leaf parameter: {k}\".format(k=best_min_samples))"
      ],
      "id": "46c10075",
      "execution_count": null,
      "outputs": []
    },
    {
      "cell_type": "markdown",
      "metadata": {
        "id": "93bde00a"
      },
      "source": [
        "#### Sample Growing Data\n",
        "\n",
        "Observe the effect of growing the sample size on the training and validation errors."
      ],
      "id": "93bde00a"
    },
    {
      "cell_type": "code",
      "metadata": {
        "id": "0bc1e040"
      },
      "source": [
        "sizes = [100, 500, 1000, 5000]\n",
        "\n",
        "for s in sizes:\n",
        "    # select s random samples from train dataset\n",
        "    x_subset, y_subset = x_train[inds[:s]], y_train[inds[:s]]\n",
        "    \n",
        "    # apply cross validation to get validation and train accuracy matrices \n",
        "    err_val_matrix, err_train_matrix = my_validation.dt_cross_validation(x_subset, y_subset, min_samples_per_leaf_list=min_samples_per_leaf_list, L=L, validation_metric_fn=my_validation.error_rate)\n",
        "    \n",
        "    err_val_means = np.mean(err_val_matrix, axis=1)\n",
        "    \n",
        "    plt.title('Error Rate of Decision Tree for Varying Minimum Samples per Leaf Values with {size} Samples'.format(size = s))\n",
        "    plt.plot(min_samples_per_leaf_list, np.mean(err_train_matrix, axis=1),  label='train')\n",
        "    plt.errorbar(min_samples_per_leaf_list, err_val_means, np.std(err_val_matrix, axis=1), label='validation')\n",
        "    plt.legend()\n",
        "    plt.xlabel('Minium Samples per Leaf')\n",
        "    plt.ylabel('Error Rate')\n",
        "    plt.ylim(0,0.5)\n",
        "    plt.show()"
      ],
      "id": "0bc1e040",
      "execution_count": null,
      "outputs": []
    },
    {
      "cell_type": "markdown",
      "metadata": {
        "id": "e46a297b"
      },
      "source": [
        "#### Use Best Parameter Combination on Test Set"
      ],
      "id": "e46a297b"
    },
    {
      "cell_type": "code",
      "metadata": {
        "id": "6028c76b"
      },
      "source": [
        "model = DecisionTreeClassifier(min_samples_leaf=best_min_samples)\n",
        "start_time = time.time()\n",
        "model.fit(x_train, y_train)\n",
        "tr_end = time.time()\n",
        "tr_time = tr_end - start_time\n",
        "\n",
        "y_pred = model.predict(x_test)\n",
        "pr_end = time.time()\n",
        "pred_time = pr_end - tr_end\n",
        "\n",
        "err_rate = my_validation.error_rate(y_test, y_pred)\n",
        "\n",
        "print(\"Error Rate on Test Set: {err_rate}\".format(err_rate=err_rate))\n",
        "print(\"Training time: {tr_time}\".format(tr_time=tr_time))\n",
        "print(\"Prediction time: {pred_time}\".format(pred_time=pred_time))"
      ],
      "id": "6028c76b",
      "execution_count": null,
      "outputs": []
    },
    {
      "cell_type": "markdown",
      "metadata": {
        "id": "babf69b0"
      },
      "source": [
        "### For Max Depth and Min Samples per Leaf Combined"
      ],
      "id": "babf69b0"
    },
    {
      "cell_type": "markdown",
      "metadata": {
        "id": "6dcc4dde"
      },
      "source": [
        "#### Cross-Validation"
      ],
      "id": "6dcc4dde"
    },
    {
      "cell_type": "code",
      "metadata": {
        "id": "fd353b03"
      },
      "source": [
        "# Temporary lits to compute quickly\n",
        "max_depth_list = list(range(1,31)) #1-30\n",
        "min_samples_per_leaf_list = list(range(1,301,10)) #1-100\n",
        "\n",
        "err_val_matrix, err_train_matrix = my_validation.dt_cross_validation(x_train, y_train,max_depth_list=max_depth_list, min_samples_per_leaf_list=min_samples_per_leaf_list, L=L, validation_metric_fn=my_validation.error_rate)\n",
        "err_val_means = np.mean(err_val_matrix, axis = -1)\n",
        "err_train_means = np.mean(err_train_matrix, axis = -1)\n",
        "\n",
        "err_val_min_params = np.where(err_val_means == np.amin(err_val_means))\n",
        "display(err_val_min_params)\n",
        "fig, ax = plt.subplots(subplot_kw={'projection': '3d'})\n",
        "xdata = list()\n",
        "for md in max_depth_list:\n",
        "  for i in range(len(min_samples_per_leaf_list)):\n",
        "    xdata.append(md)\n",
        "\n",
        "ydata = len(max_depth_list) * min_samples_per_leaf_list\n",
        "\n",
        "zdata_val, zdata_train = err_val_means.flatten(), err_train_means.flatten()\n",
        "\n",
        "# The best parameter is the one providing the smallest error rate\n",
        "best_max_depth_combine = max_depth_list[err_val_min_params[0][0]]\n",
        "print(\"Best max depth parameter: {k}\".format(k=best_max_depth_combine))\n",
        "best_min_samples_combine = min_samples_per_leaf_list[err_val_min_params[1][0]]\n",
        "print(\"Best min samples per leaf parameter: {k}\".format(k=best_min_samples_combine))\n",
        "\n",
        "# Visualization\n",
        "ax.scatter3D(xdata, ydata, err_val_means, label='validation', color='blue')\n",
        "\n",
        "ax.scatter3D(xdata,ydata, err_train_means, label='train', color='red')\n",
        "\n",
        "ax.set_title('Error Rate of Decision Tree for Different Max Depth and Minimum Samples per Leaf Values with Full Dataset')\n",
        "ax.legend()\n",
        "ax.set_xlabel('Maximum Depth')\n",
        "ax.set_ylabel('Minimum Samples per Leaf')\n",
        "ax.set_zlabel('Error Rate')\n",
        "plt.show()"
      ],
      "id": "fd353b03",
      "execution_count": null,
      "outputs": []
    },
    {
      "cell_type": "markdown",
      "metadata": {
        "id": "7aab6245"
      },
      "source": [
        "#### Use Best Parameter Combination on Test Set"
      ],
      "id": "7aab6245"
    },
    {
      "cell_type": "code",
      "metadata": {
        "id": "81263556"
      },
      "source": [
        "model = DecisionTreeClassifier(max_depth=best_max_depth_combine, min_samples_leaf=best_min_samples_combine)\n",
        "start_time = time.time()\n",
        "model.fit(x_train, y_train)\n",
        "tr_end = time.time()\n",
        "tr_time = tr_end - start_time\n",
        "\n",
        "y_pred = model.predict(x_test)\n",
        "pr_end = time.time()\n",
        "pred_time = pr_end - tr_end\n",
        "\n",
        "err_rate = my_validation.error_rate(y_test, y_pred)\n",
        "\n",
        "print(\"Error Rate on Test Set: {err_rate}\".format(err_rate=err_rate))\n",
        "print(\"Training time: {tr_time}\".format(tr_time=tr_time))\n",
        "print(\"Prediction time: {pred_time}\".format(pred_time=pred_time))"
      ],
      "id": "81263556",
      "execution_count": null,
      "outputs": []
    }
  ]
}