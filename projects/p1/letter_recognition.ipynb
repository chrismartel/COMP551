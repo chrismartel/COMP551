{
 "cells": [
  {
   "cell_type": "markdown",
   "id": "85a96b9b",
   "metadata": {},
   "source": [
    "# Mini-Project 1: Machine Learning 101\n",
    "\n",
    "Christian Martel (260867191)\n",
    "\n",
    "Luka Loignon (260871296)\n",
    "\n",
    "Marie Guertin (260870552)"
   ]
  },
  {
   "cell_type": "markdown",
   "id": "a69af1a7",
   "metadata": {},
   "source": [
    "# PART II: Letter Recognition Dataset\n",
    "\n",
    "Dataset of character image features. Goal is to identify the letter.\n",
    "https://archive.ics.uci.edu/ml/datasets/Letter+Recognition?fbclid=IwAR2QJ1w92tCvATRgyAbEDZ7sOuYViNBxxvfp7ofTFHCljA6TcV68EskJTKA"
   ]
  },
  {
   "cell_type": "code",
   "execution_count": 2,
   "id": "f912e619",
   "metadata": {},
   "outputs": [],
   "source": [
    "## Imports and Setup\n",
    "\n",
    "import pandas as pd\n",
    "import numpy as np\n",
    "import time\n",
    "import matplotlib.pyplot as plt\n",
    "%matplotlib notebook\n",
    "%matplotlib inline\n",
    "\n",
    "# other py files\n",
    "import my_validation\n",
    "import my_preprocessing\n",
    "\n",
    "pd.set_option('display.max_columns', None)\n",
    "pd.set_option('display.max_rows', 100)\n",
    "np.random.seed(1234)"
   ]
  },
  {
   "cell_type": "markdown",
   "id": "5f627d5e",
   "metadata": {},
   "source": [
    "## Data Preprocessing"
   ]
  },
  {
   "cell_type": "markdown",
   "id": "e26715b4",
   "metadata": {},
   "source": [
    "### 1. Import Data\n",
    "\n",
    "It is indicated in the letter-recognition.names file that there are no missing attribute values in the dataset. Hence, no imputation is required.\n",
    "\n",
    "All the features are integers so no one-hot-encoding is required."
   ]
  },
  {
   "cell_type": "code",
   "execution_count": 3,
   "id": "c8dd1d40",
   "metadata": {},
   "outputs": [
    {
     "data": {
      "text/html": [
       "<div>\n",
       "<style scoped>\n",
       "    .dataframe tbody tr th:only-of-type {\n",
       "        vertical-align: middle;\n",
       "    }\n",
       "\n",
       "    .dataframe tbody tr th {\n",
       "        vertical-align: top;\n",
       "    }\n",
       "\n",
       "    .dataframe thead th {\n",
       "        text-align: right;\n",
       "    }\n",
       "</style>\n",
       "<table border=\"1\" class=\"dataframe\">\n",
       "  <thead>\n",
       "    <tr style=\"text-align: right;\">\n",
       "      <th></th>\n",
       "      <th>lettr</th>\n",
       "      <th>x-box</th>\n",
       "      <th>y-box</th>\n",
       "      <th>width</th>\n",
       "      <th>high</th>\n",
       "      <th>onpix</th>\n",
       "      <th>x-bar</th>\n",
       "      <th>y-bar</th>\n",
       "      <th>x2bar</th>\n",
       "      <th>y2bar</th>\n",
       "      <th>xybar</th>\n",
       "      <th>x2ybr</th>\n",
       "      <th>xy2br</th>\n",
       "      <th>x-ege</th>\n",
       "      <th>xegvy</th>\n",
       "    </tr>\n",
       "  </thead>\n",
       "  <tbody>\n",
       "    <tr>\n",
       "      <th>0</th>\n",
       "      <td>T</td>\n",
       "      <td>2</td>\n",
       "      <td>8</td>\n",
       "      <td>3</td>\n",
       "      <td>5</td>\n",
       "      <td>1</td>\n",
       "      <td>8</td>\n",
       "      <td>13</td>\n",
       "      <td>0</td>\n",
       "      <td>6</td>\n",
       "      <td>6</td>\n",
       "      <td>10</td>\n",
       "      <td>8</td>\n",
       "      <td>0</td>\n",
       "      <td>8</td>\n",
       "    </tr>\n",
       "    <tr>\n",
       "      <th>1</th>\n",
       "      <td>I</td>\n",
       "      <td>5</td>\n",
       "      <td>12</td>\n",
       "      <td>3</td>\n",
       "      <td>7</td>\n",
       "      <td>2</td>\n",
       "      <td>10</td>\n",
       "      <td>5</td>\n",
       "      <td>5</td>\n",
       "      <td>4</td>\n",
       "      <td>13</td>\n",
       "      <td>3</td>\n",
       "      <td>9</td>\n",
       "      <td>2</td>\n",
       "      <td>8</td>\n",
       "    </tr>\n",
       "    <tr>\n",
       "      <th>2</th>\n",
       "      <td>D</td>\n",
       "      <td>4</td>\n",
       "      <td>11</td>\n",
       "      <td>6</td>\n",
       "      <td>8</td>\n",
       "      <td>6</td>\n",
       "      <td>10</td>\n",
       "      <td>6</td>\n",
       "      <td>2</td>\n",
       "      <td>6</td>\n",
       "      <td>10</td>\n",
       "      <td>3</td>\n",
       "      <td>7</td>\n",
       "      <td>3</td>\n",
       "      <td>7</td>\n",
       "    </tr>\n",
       "    <tr>\n",
       "      <th>3</th>\n",
       "      <td>N</td>\n",
       "      <td>7</td>\n",
       "      <td>11</td>\n",
       "      <td>6</td>\n",
       "      <td>6</td>\n",
       "      <td>3</td>\n",
       "      <td>5</td>\n",
       "      <td>9</td>\n",
       "      <td>4</td>\n",
       "      <td>6</td>\n",
       "      <td>4</td>\n",
       "      <td>4</td>\n",
       "      <td>10</td>\n",
       "      <td>6</td>\n",
       "      <td>10</td>\n",
       "    </tr>\n",
       "    <tr>\n",
       "      <th>4</th>\n",
       "      <td>G</td>\n",
       "      <td>2</td>\n",
       "      <td>1</td>\n",
       "      <td>3</td>\n",
       "      <td>1</td>\n",
       "      <td>1</td>\n",
       "      <td>8</td>\n",
       "      <td>6</td>\n",
       "      <td>6</td>\n",
       "      <td>6</td>\n",
       "      <td>6</td>\n",
       "      <td>5</td>\n",
       "      <td>9</td>\n",
       "      <td>1</td>\n",
       "      <td>7</td>\n",
       "    </tr>\n",
       "    <tr>\n",
       "      <th>...</th>\n",
       "      <td>...</td>\n",
       "      <td>...</td>\n",
       "      <td>...</td>\n",
       "      <td>...</td>\n",
       "      <td>...</td>\n",
       "      <td>...</td>\n",
       "      <td>...</td>\n",
       "      <td>...</td>\n",
       "      <td>...</td>\n",
       "      <td>...</td>\n",
       "      <td>...</td>\n",
       "      <td>...</td>\n",
       "      <td>...</td>\n",
       "      <td>...</td>\n",
       "      <td>...</td>\n",
       "    </tr>\n",
       "    <tr>\n",
       "      <th>19995</th>\n",
       "      <td>D</td>\n",
       "      <td>2</td>\n",
       "      <td>2</td>\n",
       "      <td>3</td>\n",
       "      <td>3</td>\n",
       "      <td>2</td>\n",
       "      <td>7</td>\n",
       "      <td>7</td>\n",
       "      <td>7</td>\n",
       "      <td>6</td>\n",
       "      <td>6</td>\n",
       "      <td>6</td>\n",
       "      <td>4</td>\n",
       "      <td>2</td>\n",
       "      <td>8</td>\n",
       "    </tr>\n",
       "    <tr>\n",
       "      <th>19996</th>\n",
       "      <td>C</td>\n",
       "      <td>7</td>\n",
       "      <td>10</td>\n",
       "      <td>8</td>\n",
       "      <td>8</td>\n",
       "      <td>4</td>\n",
       "      <td>4</td>\n",
       "      <td>8</td>\n",
       "      <td>6</td>\n",
       "      <td>9</td>\n",
       "      <td>12</td>\n",
       "      <td>9</td>\n",
       "      <td>13</td>\n",
       "      <td>2</td>\n",
       "      <td>9</td>\n",
       "    </tr>\n",
       "    <tr>\n",
       "      <th>19997</th>\n",
       "      <td>T</td>\n",
       "      <td>6</td>\n",
       "      <td>9</td>\n",
       "      <td>6</td>\n",
       "      <td>7</td>\n",
       "      <td>5</td>\n",
       "      <td>6</td>\n",
       "      <td>11</td>\n",
       "      <td>3</td>\n",
       "      <td>7</td>\n",
       "      <td>11</td>\n",
       "      <td>9</td>\n",
       "      <td>5</td>\n",
       "      <td>2</td>\n",
       "      <td>12</td>\n",
       "    </tr>\n",
       "    <tr>\n",
       "      <th>19998</th>\n",
       "      <td>S</td>\n",
       "      <td>2</td>\n",
       "      <td>3</td>\n",
       "      <td>4</td>\n",
       "      <td>2</td>\n",
       "      <td>1</td>\n",
       "      <td>8</td>\n",
       "      <td>7</td>\n",
       "      <td>2</td>\n",
       "      <td>6</td>\n",
       "      <td>10</td>\n",
       "      <td>6</td>\n",
       "      <td>8</td>\n",
       "      <td>1</td>\n",
       "      <td>9</td>\n",
       "    </tr>\n",
       "    <tr>\n",
       "      <th>19999</th>\n",
       "      <td>A</td>\n",
       "      <td>4</td>\n",
       "      <td>9</td>\n",
       "      <td>6</td>\n",
       "      <td>6</td>\n",
       "      <td>2</td>\n",
       "      <td>9</td>\n",
       "      <td>5</td>\n",
       "      <td>3</td>\n",
       "      <td>1</td>\n",
       "      <td>8</td>\n",
       "      <td>1</td>\n",
       "      <td>8</td>\n",
       "      <td>2</td>\n",
       "      <td>7</td>\n",
       "    </tr>\n",
       "  </tbody>\n",
       "</table>\n",
       "<p>20000 rows × 15 columns</p>\n",
       "</div>"
      ],
      "text/plain": [
       "      lettr  x-box  y-box  width  high  onpix  x-bar  y-bar  x2bar  y2bar  \\\n",
       "0         T      2      8      3     5      1      8     13      0      6   \n",
       "1         I      5     12      3     7      2     10      5      5      4   \n",
       "2         D      4     11      6     8      6     10      6      2      6   \n",
       "3         N      7     11      6     6      3      5      9      4      6   \n",
       "4         G      2      1      3     1      1      8      6      6      6   \n",
       "...     ...    ...    ...    ...   ...    ...    ...    ...    ...    ...   \n",
       "19995     D      2      2      3     3      2      7      7      7      6   \n",
       "19996     C      7     10      8     8      4      4      8      6      9   \n",
       "19997     T      6      9      6     7      5      6     11      3      7   \n",
       "19998     S      2      3      4     2      1      8      7      2      6   \n",
       "19999     A      4      9      6     6      2      9      5      3      1   \n",
       "\n",
       "       xybar  x2ybr  xy2br  x-ege  xegvy  \n",
       "0          6     10      8      0      8  \n",
       "1         13      3      9      2      8  \n",
       "2         10      3      7      3      7  \n",
       "3          4      4     10      6     10  \n",
       "4          6      5      9      1      7  \n",
       "...      ...    ...    ...    ...    ...  \n",
       "19995      6      6      4      2      8  \n",
       "19996     12      9     13      2      9  \n",
       "19997     11      9      5      2     12  \n",
       "19998     10      6      8      1      9  \n",
       "19999      8      1      8      2      7  \n",
       "\n",
       "[20000 rows x 15 columns]"
      ]
     },
     "metadata": {},
     "output_type": "display_data"
    }
   ],
   "source": [
    "\n",
    "columns = ['lettr', 'x-box', 'y-box', 'width', 'high', 'onpix', 'x-bar', 'y-bar', 'x2bar', 'y2bar', 'xybar', 'x2ybr', 'xy2br', 'x-ege', 'xegvy', 'y-ege', 'yegvx']\n",
    "df = pd.read_csv(\"data/letter-recognition.data\", usecols = range(15), names = columns)\n",
    "display(df)"
   ]
  },
  {
   "cell_type": "markdown",
   "id": "b9b8a6a7",
   "metadata": {},
   "source": [
    "### 2. Split Train Test"
   ]
  },
  {
   "cell_type": "code",
   "execution_count": 4,
   "id": "44475d27",
   "metadata": {},
   "outputs": [],
   "source": [
    "from sklearn.model_selection import train_test_split\n",
    "\n",
    "data = df.to_numpy()\n",
    "x_train, x_test, y_train, y_test = train_test_split(data[:,1:], data[:,0], test_size=0.20, train_size=0.80)"
   ]
  },
  {
   "cell_type": "markdown",
   "id": "8aaa1d81",
   "metadata": {},
   "source": [
    "### 3. Chi-Squared Feature Selection\n",
    "\n",
    "Method that allows to select the K most important features of a dataset, features to which the prediction variable is the most dependent.\n",
    "\n",
    "We will select the 10 most important features."
   ]
  },
  {
   "cell_type": "code",
   "execution_count": 5,
   "id": "2df6c411",
   "metadata": {},
   "outputs": [],
   "source": [
    "from sklearn.feature_selection import SelectKBest, chi2\n",
    "fs = SelectKBest(score_func=chi2, k=10)\n",
    "fs.fit(x_train, y_train)\n",
    "x_train = fs.transform(x_train)\n",
    "\n",
    "fs.fit(x_test, y_test)\n",
    "x_test = fs.transform(x_test)"
   ]
  },
  {
   "cell_type": "markdown",
   "id": "d4703c0c",
   "metadata": {},
   "source": [
    "## Experiments"
   ]
  },
  {
   "cell_type": "markdown",
   "id": "fba60b2f",
   "metadata": {},
   "source": [
    "### 1. KNN"
   ]
  },
  {
   "cell_type": "code",
   "execution_count": 35,
   "id": "571fb5f8",
   "metadata": {},
   "outputs": [],
   "source": [
    "from sklearn.neighbors import KNeighborsClassifier\n",
    "\n",
    "# number of folds for L-fold cross-validation\n",
    "L = 5\n",
    "\n",
    "# range of number of nearest neighbors (K)\n",
    "K_list = range(1,16) # [1,2,...,15]"
   ]
  },
  {
   "cell_type": "markdown",
   "id": "ba743a0c",
   "metadata": {},
   "source": [
    "#### Cross-Validation"
   ]
  },
  {
   "cell_type": "code",
   "execution_count": null,
   "id": "fd5cf05d",
   "metadata": {},
   "outputs": [],
   "source": [
    "# knn cross-validation on full dataset\n",
    "err_val_matrix, err_train_matrix = my_validation.knn_cross_validation(x_train, y_train, K_list, L, my_validation.error_rate)\n",
    "err_val_means = np.mean(err_val_matrix, axis=1)\n",
    "\n",
    "# Visualize\n",
    "plt.title('Error Rate of KNN for Different K Values with Full Dataset')\n",
    "plt.plot(K_list, np.mean(err_train_matrix, axis=1),  label='train')\n",
    "plt.errorbar(K_list, np.mean(err_matrix, axis=1), np.std(err_matrix, axis=1), label='validation')\n",
    "plt.legend()\n",
    "plt.xlabel('K (number of neighbours)')\n",
    "plt.ylabel('Error Rate')\n",
    "plt.ylim(0,0.5)\n",
    "plt.show()\n",
    "\n",
    "# The best K parameter is the one providing the smallest error rate\n",
    "best_k = K_list[err_val_means.index(min(err_val_means))]\n",
    "print(\"Best K parameter: {%k}\".format(k=best_k))"
   ]
  },
  {
   "cell_type": "markdown",
   "id": "8c5afc5b",
   "metadata": {},
   "source": [
    "#### Sample Growing Data\n",
    "\n",
    "Observe the effect of growing the sample size on the training and validation errors."
   ]
  },
  {
   "cell_type": "code",
   "execution_count": 37,
   "id": "28d7be71",
   "metadata": {},
   "outputs": [
    {
     "data": {
      "image/png": "[encoded data removed]",
      "text/plain": [
       "<Figure size 432x288 with 1 Axes>"
      ]
     },
     "metadata": {
      "needs_background": "light"
     },
     "output_type": "display_data"
    },
    {
     "data": {
      "image/png": "[encoded data removed]",
      "text/plain": [
       "<Figure size 432x288 with 1 Axes>"
      ]
     },
     "metadata": {
      "needs_background": "light"
     },
     "output_type": "display_data"
    },
    {
     "data": {
      "image/png": "[encoded data removed]",
      "text/plain": [
       "<Figure size 432x288 with 1 Axes>"
      ]
     },
     "metadata": {
      "needs_background": "light"
     },
     "output_type": "display_data"
    },
    {
     "data": {
      "image/png": "[encoded data removed]",
      "text/plain": [
       "<Figure size 432x288 with 1 Axes>"
      ]
     },
     "metadata": {
      "needs_background": "light"
     },
     "output_type": "display_data"
    }
   ],
   "source": [
    "sizes = [100, 500, 1000, 5000, 10000]\n",
    "\n",
    "# K range list\n",
    "K_list = range(1,21)\n",
    "\n",
    "for s in sizes:\n",
    "    # select s random samples from train dataset\n",
    "    x_subset, y_subset = x_train[:s,:], y_train[:s]\n",
    "    \n",
    "    # apply cross validation to get validation and train accuracy matrices \n",
    "    err_val_matrix, err_train_matrix = my_validation.knn_cross_validation(x_subset, y_subset, K_list, L, my_validation.error_rate)\n",
    "    \n",
    "    err_val_means = np.mean(err_val_matrix, axis=1)\n",
    "    \n",
    "    plt.title('Error Rate of KNN for Varying K Values with {size} Samples'.format(size = s))\n",
    "    plt.plot(K_list, np.mean(err_train_matrix, axis=1),  label='train')\n",
    "    plt.errorbar(K_list, err_val_means, np.std(err_val_matrix, axis=1), label='validation')\n",
    "    plt.legend()\n",
    "    plt.xlabel('K (number of neighbours)')\n",
    "    plt.ylabel('error rate')\n",
    "    plt.ylim(0,1)\n",
    "    plt.show()"
   ]
  },
  {
   "cell_type": "markdown",
   "id": "e7cb79be",
   "metadata": {},
   "source": [
    "#### Use Best Parameter on Test Set"
   ]
  },
  {
   "cell_type": "code",
   "execution_count": null,
   "id": "c7a8871c",
   "metadata": {},
   "outputs": [],
   "source": [
    "model = KNeighborsClassifier(n_neighbors=best_k)\n",
    "start_time = time.time()\n",
    "model.fit(x_train, y_train)\n",
    "tr_time = time.time() - start\n",
    "\n",
    "y_pred = model.predict(x_test)\n",
    "pred_time = time.time() - tr_time\n",
    "\n",
    "err_rate = my_validation.error_rate(y_test, y_pred)\n",
    "\n",
    "print(\"Error Rate on Test Set: {err_rate}\".format(err_rate=err_rate))\n",
    "print(\"Training time: {tr_time}\".format(tr_time=tr_time))\n",
    "print(\"Prediction time: {pred_time}\".format(pred_time=pred_time))"
   ]
  },
  {
   "cell_type": "markdown",
   "id": "416b4601",
   "metadata": {},
   "source": [
    "### 2. DECISION-TREE"
   ]
  },
  {
   "cell_type": "markdown",
   "id": "1b27f5c7",
   "metadata": {},
   "source": [
    "#### Cross-Validation"
   ]
  },
  {
   "cell_type": "markdown",
   "id": "73457589",
   "metadata": {},
   "source": [
    "#### Sample Growing Data"
   ]
  },
  {
   "cell_type": "markdown",
   "id": "301f4200",
   "metadata": {},
   "source": [
    "#### Use Best Combination of Hyper-Parameters"
   ]
  },
  {
   "cell_type": "code",
   "execution_count": null,
   "id": "539fa519",
   "metadata": {},
   "outputs": [],
   "source": []
  }
 ],
 "metadata": {
  "kernelspec": {
   "display_name": "Python 3",
   "language": "python",
   "name": "python3"
  },
  "language_info": {
   "codemirror_mode": {
    "name": "ipython",
    "version": 3
   },
   "file_extension": ".py",
   "mimetype": "text/x-python",
   "name": "python",
   "nbconvert_exporter": "python",
   "pygments_lexer": "ipython3",
   "version": "3.6.9"
  }
 },
 "nbformat": 4,
 "nbformat_minor": 5
}
