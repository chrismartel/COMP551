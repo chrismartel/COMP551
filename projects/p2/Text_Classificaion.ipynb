{
  "nbformat": 4,
  "nbformat_minor": 0,
  "metadata": {
    "colab": {
      "name": "Text_Classificaion.ipynb",
      "provenance": []
    },
    "kernelspec": {
      "display_name": "Python 3",
      "name": "python3"
    },
    "language_info": {
      "name": "python"
    }
  },
  "cells": [
    {
      "cell_type": "code",
      "metadata": {
        "id": "bIMzBZqUfFXl"
      },
      "source": [
        "import pandas as pd\n",
        "import numpy as np\n",
        "from sklearn.model_selection import train_test_split\n",
        "from sklearn.pipeline import Pipeline\n",
        "from sklearn.feature_extraction.text import CountVectorizer\n",
        "from sklearn.feature_extraction.text import TfidfTransformer\n",
        "from sklearn.metrics import accuracy_score, confusion_matrix,classification_report\n",
        "from sklearn.linear_model import LogisticRegression\n",
        "from sklearn.linear_model import LogisticRegressionCV\n",
        "from sklearn.svm import LinearSVC\n",
        "from sklearn.naive_bayes import MultinomialNB\n",
        "from sklearn.model_selection import GridSearchCV"
      ],
      "execution_count": 12,
      "outputs": []
    },
    {
      "cell_type": "code",
      "metadata": {
        "colab": {
          "base_uri": "https://localhost:8080/",
          "height": 1000
        },
        "id": "WBqMYsy3SmE8",
        "outputId": "c1151306-f398-40a8-9466-ebca1b9dcf27"
      },
      "source": [
        "# Loading Datasets\n",
        "\n",
        "# Fake_News_Train\n",
        "\n",
        "news_train_url = 'https://raw.githubusercontent.com/mohannashahrad/Comp551_MiniProject2/main/fake_news/fake_news_train.csv'\n",
        "news_train_df = pd.read_csv(news_train_url)\n",
        "display(news_train_df)\n",
        "\n",
        "# Fake_News_Val\n",
        "\n",
        "news_val_url = 'https://raw.githubusercontent.com/mohannashahrad/Comp551_MiniProject2/main/fake_news/fake_news_val.csv'\n",
        "news_val_df = pd.read_csv(news_val_url)\n",
        "display(news_val_df)\n",
        "\n",
        "# Fake_News_Test\n",
        "\n",
        "news_test_url = 'https://raw.githubusercontent.com/mohannashahrad/Comp551_MiniProject2/main/fake_news/fake_news_test.csv'\n",
        "news_test_df = pd.read_csv(news_test_url)\n",
        "display(news_test_df)"
      ],
      "execution_count": 2,
      "outputs": [
        {
          "output_type": "display_data",
          "data": {
            "text/html": [
              "<div>\n",
              "<style scoped>\n",
              "    .dataframe tbody tr th:only-of-type {\n",
              "        vertical-align: middle;\n",
              "    }\n",
              "\n",
              "    .dataframe tbody tr th {\n",
              "        vertical-align: top;\n",
              "    }\n",
              "\n",
              "    .dataframe thead th {\n",
              "        text-align: right;\n",
              "    }\n",
              "</style>\n",
              "<table border=\"1\" class=\"dataframe\">\n",
              "  <thead>\n",
              "    <tr style=\"text-align: right;\">\n",
              "      <th></th>\n",
              "      <th>text</th>\n",
              "      <th>label</th>\n",
              "    </tr>\n",
              "  </thead>\n",
              "  <tbody>\n",
              "    <tr>\n",
              "      <th>0</th>\n",
              "      <td>Indian fruit is so important to so many people...</td>\n",
              "      <td>0</td>\n",
              "    </tr>\n",
              "    <tr>\n",
              "      <th>1</th>\n",
              "      <td>FORT WORTH, Texas — Urú Inc. will hold a confe...</td>\n",
              "      <td>0</td>\n",
              "    </tr>\n",
              "    <tr>\n",
              "      <th>2</th>\n",
              "      <td>With three of the four new carriers, the Niger...</td>\n",
              "      <td>0</td>\n",
              "    </tr>\n",
              "    <tr>\n",
              "      <th>3</th>\n",
              "      <td>Let's start with the classic annual dividend r...</td>\n",
              "      <td>0</td>\n",
              "    </tr>\n",
              "    <tr>\n",
              "      <th>4</th>\n",
              "      <td>Following are some of the major events to have...</td>\n",
              "      <td>1</td>\n",
              "    </tr>\n",
              "    <tr>\n",
              "      <th>...</th>\n",
              "      <td>...</td>\n",
              "      <td>...</td>\n",
              "    </tr>\n",
              "    <tr>\n",
              "      <th>19995</th>\n",
              "      <td>Warning: small, petty spoilers for the Game of...</td>\n",
              "      <td>1</td>\n",
              "    </tr>\n",
              "    <tr>\n",
              "      <th>19996</th>\n",
              "      <td>Shilpa Shetty will soon make her Bollywood deb...</td>\n",
              "      <td>0</td>\n",
              "    </tr>\n",
              "    <tr>\n",
              "      <th>19997</th>\n",
              "      <td>Add a digital black hole image to the Allstate...</td>\n",
              "      <td>0</td>\n",
              "    </tr>\n",
              "    <tr>\n",
              "      <th>19998</th>\n",
              "      <td>Share\\nThe name W. L. Gore &amp; Associates might ...</td>\n",
              "      <td>1</td>\n",
              "    </tr>\n",
              "    <tr>\n",
              "      <th>19999</th>\n",
              "      <td>A comprehensive report recapping developments ...</td>\n",
              "      <td>1</td>\n",
              "    </tr>\n",
              "  </tbody>\n",
              "</table>\n",
              "<p>20000 rows × 2 columns</p>\n",
              "</div>"
            ],
            "text/plain": [
              "                                                    text  label\n",
              "0      Indian fruit is so important to so many people...      0\n",
              "1      FORT WORTH, Texas — Urú Inc. will hold a confe...      0\n",
              "2      With three of the four new carriers, the Niger...      0\n",
              "3      Let's start with the classic annual dividend r...      0\n",
              "4      Following are some of the major events to have...      1\n",
              "...                                                  ...    ...\n",
              "19995  Warning: small, petty spoilers for the Game of...      1\n",
              "19996  Shilpa Shetty will soon make her Bollywood deb...      0\n",
              "19997  Add a digital black hole image to the Allstate...      0\n",
              "19998  Share\\nThe name W. L. Gore & Associates might ...      1\n",
              "19999  A comprehensive report recapping developments ...      1\n",
              "\n",
              "[20000 rows x 2 columns]"
            ]
          },
          "metadata": {}
        },
        {
          "output_type": "display_data",
          "data": {
            "text/html": [
              "<div>\n",
              "<style scoped>\n",
              "    .dataframe tbody tr th:only-of-type {\n",
              "        vertical-align: middle;\n",
              "    }\n",
              "\n",
              "    .dataframe tbody tr th {\n",
              "        vertical-align: top;\n",
              "    }\n",
              "\n",
              "    .dataframe thead th {\n",
              "        text-align: right;\n",
              "    }\n",
              "</style>\n",
              "<table border=\"1\" class=\"dataframe\">\n",
              "  <thead>\n",
              "    <tr style=\"text-align: right;\">\n",
              "      <th></th>\n",
              "      <th>text</th>\n",
              "      <th>label</th>\n",
              "    </tr>\n",
              "  </thead>\n",
              "  <tbody>\n",
              "    <tr>\n",
              "      <th>0</th>\n",
              "      <td>When don't you have something appropriate to w...</td>\n",
              "      <td>0</td>\n",
              "    </tr>\n",
              "    <tr>\n",
              "      <th>1</th>\n",
              "      <td>Share this article with Google Plus\\nA brief g...</td>\n",
              "      <td>0</td>\n",
              "    </tr>\n",
              "    <tr>\n",
              "      <th>2</th>\n",
              "      <td>NEW YORK — Yankees beat reporter Brendan Kuty ...</td>\n",
              "      <td>1</td>\n",
              "    </tr>\n",
              "    <tr>\n",
              "      <th>3</th>\n",
              "      <td>The Goonies has always posed challenges for fi...</td>\n",
              "      <td>0</td>\n",
              "    </tr>\n",
              "    <tr>\n",
              "      <th>4</th>\n",
              "      <td>Parisians sang, lit candles and prayed to pay ...</td>\n",
              "      <td>1</td>\n",
              "    </tr>\n",
              "    <tr>\n",
              "      <th>...</th>\n",
              "      <td>...</td>\n",
              "      <td>...</td>\n",
              "    </tr>\n",
              "    <tr>\n",
              "      <th>1995</th>\n",
              "      <td>KABUL - In past several weeks, hectic negotiat...</td>\n",
              "      <td>1</td>\n",
              "    </tr>\n",
              "    <tr>\n",
              "      <th>1996</th>\n",
              "      <td>1) Where is Wan-Bissaka in the young player sh...</td>\n",
              "      <td>1</td>\n",
              "    </tr>\n",
              "    <tr>\n",
              "      <th>1997</th>\n",
              "      <td>It may seem counterintuitive that Calgary shou...</td>\n",
              "      <td>0</td>\n",
              "    </tr>\n",
              "    <tr>\n",
              "      <th>1998</th>\n",
              "      <td>The CEOs of America's biggest banks were summo...</td>\n",
              "      <td>1</td>\n",
              "    </tr>\n",
              "    <tr>\n",
              "      <th>1999</th>\n",
              "      <td>A tenth-grader was crushed at a school by a 7-...</td>\n",
              "      <td>0</td>\n",
              "    </tr>\n",
              "  </tbody>\n",
              "</table>\n",
              "<p>2000 rows × 2 columns</p>\n",
              "</div>"
            ],
            "text/plain": [
              "                                                   text  label\n",
              "0     When don't you have something appropriate to w...      0\n",
              "1     Share this article with Google Plus\\nA brief g...      0\n",
              "2     NEW YORK — Yankees beat reporter Brendan Kuty ...      1\n",
              "3     The Goonies has always posed challenges for fi...      0\n",
              "4     Parisians sang, lit candles and prayed to pay ...      1\n",
              "...                                                 ...    ...\n",
              "1995  KABUL - In past several weeks, hectic negotiat...      1\n",
              "1996  1) Where is Wan-Bissaka in the young player sh...      1\n",
              "1997  It may seem counterintuitive that Calgary shou...      0\n",
              "1998  The CEOs of America's biggest banks were summo...      1\n",
              "1999  A tenth-grader was crushed at a school by a 7-...      0\n",
              "\n",
              "[2000 rows x 2 columns]"
            ]
          },
          "metadata": {}
        },
        {
          "output_type": "display_data",
          "data": {
            "text/html": [
              "<div>\n",
              "<style scoped>\n",
              "    .dataframe tbody tr th:only-of-type {\n",
              "        vertical-align: middle;\n",
              "    }\n",
              "\n",
              "    .dataframe tbody tr th {\n",
              "        vertical-align: top;\n",
              "    }\n",
              "\n",
              "    .dataframe thead th {\n",
              "        text-align: right;\n",
              "    }\n",
              "</style>\n",
              "<table border=\"1\" class=\"dataframe\">\n",
              "  <thead>\n",
              "    <tr style=\"text-align: right;\">\n",
              "      <th></th>\n",
              "      <th>text</th>\n",
              "      <th>label</th>\n",
              "    </tr>\n",
              "  </thead>\n",
              "  <tbody>\n",
              "    <tr>\n",
              "      <th>0</th>\n",
              "      <td>Is it possible the President’s pressure campai...</td>\n",
              "      <td>0</td>\n",
              "    </tr>\n",
              "    <tr>\n",
              "      <th>1</th>\n",
              "      <td>Pennsylvania is the place to go for farmers ma...</td>\n",
              "      <td>1</td>\n",
              "    </tr>\n",
              "    <tr>\n",
              "      <th>2</th>\n",
              "      <td>While he is frantically putting together a pro...</td>\n",
              "      <td>0</td>\n",
              "    </tr>\n",
              "    <tr>\n",
              "      <th>3</th>\n",
              "      <td>The one-man industry, Yasir Akhtar, is all set...</td>\n",
              "      <td>1</td>\n",
              "    </tr>\n",
              "    <tr>\n",
              "      <th>4</th>\n",
              "      <td>All Parties Sanctions Group, Business Leaders,...</td>\n",
              "      <td>0</td>\n",
              "    </tr>\n",
              "    <tr>\n",
              "      <th>...</th>\n",
              "      <td>...</td>\n",
              "      <td>...</td>\n",
              "    </tr>\n",
              "    <tr>\n",
              "      <th>2995</th>\n",
              "      <td>Chennai: The proposed merger of Dena Bank and ...</td>\n",
              "      <td>0</td>\n",
              "    </tr>\n",
              "    <tr>\n",
              "      <th>2996</th>\n",
              "      <td>Netflix plans to buy a portion of Egyptian cin...</td>\n",
              "      <td>0</td>\n",
              "    </tr>\n",
              "    <tr>\n",
              "      <th>2997</th>\n",
              "      <td>About three months ago we had reported that Ta...</td>\n",
              "      <td>1</td>\n",
              "    </tr>\n",
              "    <tr>\n",
              "      <th>2998</th>\n",
              "      <td>The fight against HIV/AIDS and tuberculosis sh...</td>\n",
              "      <td>0</td>\n",
              "    </tr>\n",
              "    <tr>\n",
              "      <th>2999</th>\n",
              "      <td>If your microbes are sentient, they’re not mea...</td>\n",
              "      <td>0</td>\n",
              "    </tr>\n",
              "  </tbody>\n",
              "</table>\n",
              "<p>3000 rows × 2 columns</p>\n",
              "</div>"
            ],
            "text/plain": [
              "                                                   text  label\n",
              "0     Is it possible the President’s pressure campai...      0\n",
              "1     Pennsylvania is the place to go for farmers ma...      1\n",
              "2     While he is frantically putting together a pro...      0\n",
              "3     The one-man industry, Yasir Akhtar, is all set...      1\n",
              "4     All Parties Sanctions Group, Business Leaders,...      0\n",
              "...                                                 ...    ...\n",
              "2995  Chennai: The proposed merger of Dena Bank and ...      0\n",
              "2996  Netflix plans to buy a portion of Egyptian cin...      0\n",
              "2997  About three months ago we had reported that Ta...      1\n",
              "2998  The fight against HIV/AIDS and tuberculosis sh...      0\n",
              "2999  If your microbes are sentient, they’re not mea...      0\n",
              "\n",
              "[3000 rows x 2 columns]"
            ]
          },
          "metadata": {}
        }
      ]
    },
    {
      "cell_type": "code",
      "metadata": {
        "id": "3bnl7tEBcmuw"
      },
      "source": [
        "# Data Cleaning\n",
        "news_train_df = pd.concat([news_train_df, news_val_df], ignore_index=True)\n",
        "news_train_df.dropna(inplace=True)\n",
        "news_train_df.drop_duplicates(inplace=True)"
      ],
      "execution_count": 3,
      "outputs": []
    },
    {
      "cell_type": "code",
      "metadata": {
        "id": "wzHmnmPmisMQ"
      },
      "source": [
        "# Data Preprocessing\n",
        "\n",
        "# Part 1: Handling Contractions\n",
        "contractions_dict = { \"ain't\": \"are not\",\"'s\":\" is\",\"aren't\": \"are not\",\n",
        "                     \"can't\": \"cannot\",\"can't've\": \"cannot have\",\n",
        "                     \"'cause\": \"because\",\"could've\": \"could have\",\"couldn't\": \"could not\",\n",
        "                     \"couldn't've\": \"could not have\", \"didn't\": \"did not\",\"doesn't\": \"does not\",\n",
        "                     \"don't\": \"do not\",\"hadn't\": \"had not\",\"hadn't've\": \"had not have\",\n",
        "                     \"hasn't\": \"has not\",\"haven't\": \"have not\",\"he'd\": \"he would\",\n",
        "                     \"he'd've\": \"he would have\",\"he'll\": \"he will\", \"he'll've\": \"he will have\",\n",
        "                     \"how'd\": \"how did\",\"how'd'y\": \"how do you\",\"how'll\": \"how will\",\n",
        "                     \"I'd\": \"I would\", \"I'd've\": \"I would have\",\"I'll\": \"I will\",\n",
        "                     \"I'll've\": \"I will have\",\"I'm\": \"I am\",\"I've\": \"I have\", \"isn't\": \"is not\",\n",
        "                     \"it'd\": \"it would\",\"it'd've\": \"it would have\",\"it'll\": \"it will\",\n",
        "                     \"it'll've\": \"it will have\", \"let's\": \"let us\",\"ma'am\": \"madam\",\n",
        "                     \"mayn't\": \"may not\",\"might've\": \"might have\",\"mightn't\": \"might not\", \n",
        "                     \"mightn't've\": \"might not have\",\"must've\": \"must have\",\"mustn't\": \"must not\",\n",
        "                     \"mustn't've\": \"must not have\", \"needn't\": \"need not\",\n",
        "                     \"needn't've\": \"need not have\",\"o'clock\": \"of the clock\",\"oughtn't\": \"ought not\",\n",
        "                     \"oughtn't've\": \"ought not have\",\"shan't\": \"shall not\",\"sha'n't\": \"shall not\",\n",
        "                     \"shan't've\": \"shall not have\",\"she'd\": \"she would\",\"she'd've\": \"she would have\",\n",
        "                     \"she'll\": \"she will\", \"she'll've\": \"she will have\",\"should've\": \"should have\",\n",
        "                     \"shouldn't\": \"should not\", \"shouldn't've\": \"should not have\",\"so've\": \"so have\",\n",
        "                     \"that'd\": \"that would\",\"that'd've\": \"that would have\", \"there'd\": \"there would\",\n",
        "                     \"there'd've\": \"there would have\", \"they'd\": \"they would\",\n",
        "                     \"they'd've\": \"they would have\",\"they'll\": \"they will\",\n",
        "                     \"they'll've\": \"they will have\", \"they're\": \"they are\",\"they've\": \"they have\",\n",
        "                     \"to've\": \"to have\",\"wasn't\": \"was not\",\"we'd\": \"we would\",\n",
        "                     \"we'd've\": \"we would have\",\"we'll\": \"we will\",\"we'll've\": \"we will have\",\n",
        "                     \"we're\": \"we are\",\"we've\": \"we have\", \"weren't\": \"were not\",\"what'll\": \"what will\",\n",
        "                     \"what'll've\": \"what will have\",\"what're\": \"what are\", \"what've\": \"what have\",\n",
        "                     \"when've\": \"when have\",\"where'd\": \"where did\", \"where've\": \"where have\",\n",
        "                     \"who'll\": \"who will\",\"who'll've\": \"who will have\",\"who've\": \"who have\",\n",
        "                     \"why've\": \"why have\",\"will've\": \"will have\",\"won't\": \"will not\",\n",
        "                     \"won't've\": \"will not have\", \"would've\": \"would have\",\"wouldn't\": \"would not\",\n",
        "                     \"wouldn't've\": \"would not have\",\"y'all\": \"you all\", \"y'all'd\": \"you all would\",\n",
        "                     \"y'all'd've\": \"you all would have\",\"y'all're\": \"you all are\",\n",
        "                     \"y'all've\": \"you all have\", \"you'd\": \"you would\",\"you'd've\": \"you would have\",\n",
        "                     \"you'll\": \"you will\",\"you'll've\": \"you will have\", \"you're\": \"you are\",\n",
        "                     \"you've\": \"you have\"}"
      ],
      "execution_count": 4,
      "outputs": []
    },
    {
      "cell_type": "code",
      "metadata": {
        "colab": {
          "base_uri": "https://localhost:8080/",
          "height": 122
        },
        "id": "-qGhbHBRjAnl",
        "outputId": "d4e32aef-5a40-4bd9-e5b7-d142c826a5a6"
      },
      "source": [
        "# Function for expanding the extractions in news'values\n",
        "import re\n",
        "import nltk\n",
        "from nltk.corpus import stopwords\n",
        "\n",
        "nltk.download('stopwords')\n",
        "nltk.download('wordnet')\n",
        "\n",
        "def expandContractions(text,contractions_dict=contractions_dict):\n",
        "    regex=re.compile('(%s)' % '|'.join(contractions_dict.keys()))\n",
        "    def replace(match):\n",
        "        return contractions_dict[match.group(0)]\n",
        "    return regex.sub(replace, text)\n",
        "\n",
        "news_train_df['text'] = news_train_df['text'].apply(lambda x:expandContractions(x))  \n",
        "\n",
        "# Pre-Processing Part 2 : Lower Case \n",
        "news_train_df['text'] = news_train_df['text'].apply(lambda x:x.lower())\n",
        "\n",
        "# Pre-Processing Part 3 : Removing Punctuatoins\n",
        "news_train_df['text'] = news_train_df['text'].apply(lambda x:re.sub(r'[^\\w\\s]','', x))\n",
        "\n",
        "# Pre-Processing Part 4 : Removing Extra Spaces\n",
        "news_train_df['text'] = news_train_df['text'].apply(lambda x:re.sub(' +',' ',x))\n",
        "\n",
        "# Pre-Processing Part 5 : Lemmatization\n",
        "w_tokenizer = nltk.tokenize.WhitespaceTokenizer()\n",
        "lemmatizer = nltk.stem.WordNetLemmatizer()\n",
        "\n",
        "'''def lemmatize_text(text):\n",
        "    rev = [lemmatizer.lemmatize(w) for w in w_tokenizer.tokenize(text) if w not in stopwords.words('english')]\n",
        "    rev = ' '.join(rev)\n",
        "    return rev\n",
        "\n",
        "news_train_df['text'] = news_train_df.text.apply(lemmatize_text)'''"
      ],
      "execution_count": 5,
      "outputs": [
        {
          "output_type": "stream",
          "name": "stdout",
          "text": [
            "[nltk_data] Downloading package stopwords to /root/nltk_data...\n",
            "[nltk_data]   Unzipping corpora/stopwords.zip.\n",
            "[nltk_data] Downloading package wordnet to /root/nltk_data...\n",
            "[nltk_data]   Unzipping corpora/wordnet.zip.\n"
          ]
        },
        {
          "output_type": "execute_result",
          "data": {
            "application/vnd.google.colaboratory.intrinsic+json": {
              "type": "string"
            },
            "text/plain": [
              "\"def lemmatize_text(text):\\n    rev = [lemmatizer.lemmatize(w) for w in w_tokenizer.tokenize(text) if w not in stopwords.words('english')]\\n    rev = ' '.join(rev)\\n    return rev\\n\\nnews_train_df['text'] = news_train_df.text.apply(lemmatize_text)\""
            ]
          },
          "metadata": {},
          "execution_count": 5
        }
      ]
    },
    {
      "cell_type": "code",
      "metadata": {
        "colab": {
          "base_uri": "https://localhost:8080/",
          "height": 276
        },
        "id": "TIub5KH4528Q",
        "outputId": "55e0e9ed-113c-40a9-eb9a-4d5aefd86a31"
      },
      "source": [
        "# Analyzing some features in the riginal data (Count, Count of characters, Count of words)\n",
        "import seaborn as sns\n",
        "import matplotlib.pyplot as plt\n",
        "import matplotlib\n",
        "plt.style.use('bmh')\n",
        "\n",
        "axis=sns.countplot(x=\"label\",palette='Set2',data=news_train_df)\n",
        "for patch in axis.patches:\n",
        "    axis.text(x = patch.get_x() + patch.get_width()/2, y = patch.get_height()/2,\n",
        "    s = f\"{np.round(patch.get_height()/len(news_train_df)*100, 1)}%\",\n",
        "    ha = 'center', size = 20, rotation = 0, weight = 'bold',color = 'black')\n",
        "plt.xlabel(\"Label Distribution\", size=14)\n",
        "plt.ylabel('Count', size=14)\n",
        "plt.xticks(rotation=90)\n",
        "plt.show()"
      ],
      "execution_count": 16,
      "outputs": [
        {
          "output_type": "display_data",
          "data": {
            "image/png": "[encoded data removed]",
            "text/plain": [
              "<Figure size 432x288 with 1 Axes>"
            ]
          },
          "metadata": {
            "needs_background": "light"
          }
        }
      ]
    },
    {
      "cell_type": "code",
      "metadata": {
        "colab": {
          "base_uri": "https://localhost:8080/",
          "height": 352
        },
        "id": "LdhQcsU37fWr",
        "outputId": "7174511c-4bcc-476d-8f03-79ddbe17a836"
      },
      "source": [
        "fig, (ax1,ax2)=plt.subplots(1,2, figsize=(10,5))\n",
        "\n",
        "news_len = news_train_df[news_train_df['label']==1]['text'].str.len()\n",
        "ax1.hist(news_len,color='red')\n",
        "ax1.set_title(\"Fake News\")\n",
        "\n",
        "news_len = news_train_df[news_train_df['label']==0]['text'].str.len()\n",
        "ax2.hist(news_len,color='green')\n",
        "ax2.set_title(\"Real News\")\n",
        "\n",
        "fig.suptitle(\"Charcter in News\")\n",
        "plt.show()"
      ],
      "execution_count": 17,
      "outputs": [
        {
          "output_type": "display_data",
          "data": {
            "image/png": "[encoded data removed]",
            "text/plain": [
              "<Figure size 720x360 with 2 Axes>"
            ]
          },
          "metadata": {
            "needs_background": "light"
          }
        }
      ]
    },
    {
      "cell_type": "code",
      "metadata": {
        "colab": {
          "base_uri": "https://localhost:8080/",
          "height": 352
        },
        "id": "4xaqKhLk72r7",
        "outputId": "a9f70dfe-8990-4864-d0eb-20c4b0d6187d"
      },
      "source": [
        "fig, (ax1,ax2)=plt.subplots(1,2, figsize=(10,5))\n",
        "\n",
        "news_len = news_train_df[news_train_df['label']==1]['text'].str.split().map(lambda x: len(x))\n",
        "ax1.hist(news_len,color='red')\n",
        "ax1.set_title(\"Fake News\")\n",
        "\n",
        "news_len = news_train_df[news_train_df['label']==0]['text'].str.split().map(lambda x: len(x))\n",
        "ax2.hist(news_len,color='green')\n",
        "ax2.set_title(\"Real News\")\n",
        "\n",
        "fig.suptitle(\"Words in News\")\n",
        "plt.show()"
      ],
      "execution_count": 18,
      "outputs": [
        {
          "output_type": "display_data",
          "data": {
            "image/png": "[encoded data removed]",
            "text/plain": [
              "<Figure size 720x360 with 2 Axes>"
            ]
          },
          "metadata": {
            "needs_background": "light"
          }
        }
      ]
    },
    {
      "cell_type": "code",
      "metadata": {
        "colab": {
          "base_uri": "https://localhost:8080/",
          "height": 457
        },
        "id": "swA4nff69QDl",
        "outputId": "55b95ce2-0bc3-49e5-ac8b-bf6f6abd8575"
      },
      "source": [
        "# Average word_length in fake/real news\n",
        "fig, (ax1,ax2)=plt.subplots(1,2, figsize=(10,5))\n",
        "\n",
        "word_len = news_train_df[news_train_df['label']==1]['text'].str.split().apply(lambda x: [len(i) for i in x])\n",
        "sns.distplot(word_len.map(lambda x: np.mean(x)),ax=ax1,color='red')\n",
        "ax1.set_title(\"Fake News\")\n",
        "\n",
        "word_len = news_train_df[news_train_df['label']==0]['text'].str.split().apply(lambda x: [len(i) for i in x])\n",
        "sns.distplot(word_len.map(lambda x: np.mean(x)),ax=ax2,color='green')\n",
        "ax2.set_title(\"Real News\")\n",
        "\n",
        "fig.suptitle(\"Average of word length in News\")\n",
        "plt.show()"
      ],
      "execution_count": 19,
      "outputs": [
        {
          "output_type": "stream",
          "name": "stderr",
          "text": [
            "/usr/local/lib/python3.7/dist-packages/seaborn/distributions.py:2619: FutureWarning: `distplot` is a deprecated function and will be removed in a future version. Please adapt your code to use either `displot` (a figure-level function with similar flexibility) or `histplot` (an axes-level function for histograms).\n",
            "  warnings.warn(msg, FutureWarning)\n",
            "/usr/local/lib/python3.7/dist-packages/seaborn/distributions.py:2619: FutureWarning: `distplot` is a deprecated function and will be removed in a future version. Please adapt your code to use either `displot` (a figure-level function with similar flexibility) or `histplot` (an axes-level function for histograms).\n",
            "  warnings.warn(msg, FutureWarning)\n"
          ]
        },
        {
          "output_type": "display_data",
          "data": {
            "image/png": "[encoded data removed]",
            "text/plain": [
              "<Figure size 720x360 with 2 Axes>"
            ]
          },
          "metadata": {
            "needs_background": "light"
          }
        }
      ]
    },
    {
      "cell_type": "code",
      "metadata": {
        "id": "joMl28Rs17Sk"
      },
      "source": [
        "# Defining X_train and Y_train based on the news_train_df\n",
        "\n",
        "y_train = news_train_df['label']\n",
        "x_train = news_train_df['text']\n",
        "x_test = news_test_df['text']\n",
        "y_test = news_test_df['label']\n",
        "#x_val = news_val_df['text']\n",
        "#y_val = news_val_df['label']"
      ],
      "execution_count": 6,
      "outputs": []
    },
    {
      "cell_type": "code",
      "metadata": {
        "colab": {
          "base_uri": "https://localhost:8080/"
        },
        "id": "QZza4Arxxbq7",
        "outputId": "300db74c-a3f8-445d-99d8-ad59d77c7e6d"
      },
      "source": [
        "# Tuning hyper parameters on the validation set\n",
        "# comparing the value of ngram : [(1,1),(1,2),(2,1),(2,2)]\n",
        "\n",
        "pipe = Pipeline([('vect', CountVectorizer(ngram_range = (1,1))),\n",
        "                 ('tfidf', TfidfTransformer()),\n",
        "                 ('model', LogisticRegression())])\n",
        "model = pipe.fit(x_train, y_train)\n",
        "prediction = model.predict(x_val)\n",
        "print(\"accuracy for [1,1]: {}%\".format(round(accuracy_score(y_val, prediction)*100,2)))\n",
        "\n",
        "pipe = Pipeline([('vect', CountVectorizer(ngram_range = (1,2))),\n",
        "                 ('tfidf', TfidfTransformer()),\n",
        "                 ('model', LogisticRegression())])\n",
        "model = pipe.fit(x_train, y_train)\n",
        "prediction = model.predict(x_val)\n",
        "print(\"accuracy for [1,2]: {}%\".format(round(accuracy_score(y_val, prediction)*100,2)))\n",
        "\n",
        "pipe = Pipeline([('vect', CountVectorizer(ngram_range = (2,2))),\n",
        "                 ('tfidf', TfidfTransformer()),\n",
        "                 ('model', LogisticRegression())])\n",
        "model = pipe.fit(x_train, y_train)\n",
        "prediction = model.predict(x_val)\n",
        "print(\"accuracy for [2,2]: {}%\".format(round(accuracy_score(y_val, prediction)*100,2)))\n",
        "\n",
        "pipe = Pipeline([('vect', CountVectorizer(ngram_range = (2,3))),\n",
        "                 ('tfidf', TfidfTransformer()),\n",
        "                 ('model', LogisticRegression())])\n",
        "model = pipe.fit(x_train, y_train)\n",
        "prediction = model.predict(x_val)\n",
        "print(\"accuracy for [2,3]: {}%\".format(round(accuracy_score(y_val, prediction)*100,2)))"
      ],
      "execution_count": null,
      "outputs": [
        {
          "name": "stdout",
          "output_type": "stream",
          "text": [
            "accuracy for [1,1]: 70.65%\n",
            "accuracy for [1,2]: 69.05%\n",
            "accuracy for [2,2]: 66.35%\n",
            "accuracy for [2,3]: 64.1%\n"
          ]
        }
      ]
    },
    {
      "cell_type": "code",
      "metadata": {
        "colab": {
          "background_save": true,
          "base_uri": "https://localhost:8080/"
        },
        "id": "SEYfP72m4sbU",
        "outputId": "f0c4b0b4-6459-498a-c04f-ba1a3718596c"
      },
      "source": [
        "from sklearn.model_selection import GridSearchCV\n",
        "\n",
        "pipe = Pipeline([('vect', CountVectorizer()),\n",
        "                 ('tfidf', TfidfTransformer()),\n",
        "                 ('model', LogisticRegression())])\n",
        "grid = {\n",
        "    'vect__ngram_range': [(1, 1), (1, 2), (2,2)],\n",
        "    'vect__stop_words': [None, 'english'],\n",
        "    'model__penalty': ['l1', 'l2'],\n",
        "    'model__C': [1.0, 0.8],\n",
        "    'model__class_weight': [None, 'balanced'],\n",
        "    'model__n_jobs': [-1]\n",
        "}\n",
        "\n",
        "grid_search = GridSearchCV(pipe, param_grid=grid, scoring='accuracy', n_jobs=-1, cv=5)\n",
        "grid_search.fit(X=x_train, y=y_train)\n",
        "\n",
        "print(grid_search.best_score_)\n",
        "print(grid_search.best_params_)"
      ],
      "execution_count": null,
      "outputs": [
        {
          "name": "stderr",
          "output_type": "stream",
          "text": [
            "/usr/local/lib/python3.7/dist-packages/joblib/externals/loky/process_executor.py:691: UserWarning: A worker stopped while some jobs were given to the executor. This can be caused by a too short worker timeout or by a memory leak.\n",
            "  \"timeout or by a memory leak.\", UserWarning\n"
          ]
        },
        {
          "name": "stdout",
          "output_type": "stream",
          "text": [
            "0.7423181818181817\n",
            "{'model__C': 1.0, 'model__class_weight': 'balanced', 'model__n_jobs': -1, 'model__penalty': 'l2', 'tfidf__use_idf': True, 'vect__ngram_range': (1, 2), 'vect__stop_words': None}\n"
          ]
        }
      ]
    },
    {
      "cell_type": "code",
      "metadata": {
        "colab": {
          "base_uri": "https://localhost:8080/"
        },
        "id": "oCiVKtVgy8b6",
        "outputId": "5810fae2-b831-4105-91a0-facf674095cb"
      },
      "source": [
        "pipe = Pipeline([('vect', CountVectorizer(lowercase=True, stop_words=None, ngram_range = (1,2), max_features=8000)),\n",
        "                 ('tfidf', TfidfTransformer()),\n",
        "                 ('model', LogisticRegressionCV(cv = 4, max_iter=10000))])\n",
        "                \n",
        "model = pipe.fit(x_train, y_train)\n",
        "prediction = model.predict(x_test)\n",
        "print(\"accuracy: {}%\".format(round(accuracy_score(y_test, prediction)*100,2)))"
      ],
      "execution_count": 15,
      "outputs": [
        {
          "output_type": "stream",
          "name": "stdout",
          "text": [
            "accuracy: 71.03%\n"
          ]
        }
      ]
    }
  ]
}