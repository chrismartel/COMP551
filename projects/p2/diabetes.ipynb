{
  "nbformat": 4,
  "nbformat_minor": 0,
  "metadata": {
    "colab": {
      "name": "diabetes.ipynb",
      "provenance": [],
      "collapsed_sections": [],
      "authorship_tag": "ABX9TyOyFtPS3/PR5yogCXEFWLRe",
      "include_colab_link": true
    },
    "kernelspec": {
      "display_name": "Python 3",
      "name": "python3"
    },
    "language_info": {
      "name": "python"
    }
  },
  "cells": [
    {
      "cell_type": "markdown",
      "metadata": {
        "id": "view-in-github",
        "colab_type": "text"
      },
      "source": [
        "<a href=\"https://colab.research.google.com/github/chrismartel/COMP551/blob/main/projects/p2/diabetes.ipynb\" target=\"_parent\"><img src=\"https://colab.research.google.com/assets/colab-badge.svg\" alt=\"Open In Colab\"/></a>"
      ]
    },
    {
      "cell_type": "code",
      "metadata": {
        "id": "EOWZ1qnof6D_"
      },
      "source": [
        "from google.colab import drive\n",
        "drive.mount('/content/drive')"
      ],
      "execution_count": null,
      "outputs": []
    },
    {
      "cell_type": "code",
      "metadata": {
        "id": "eIhlVxpNgo1J"
      },
      "source": [
        "%cd ~/.ssh/\n",
        "!ssh-keygen -t rsa -b 4096\n",
        "!ssh-keyscan -t rsa github.com >> ~/.ssh/known_hosts\n",
        "%cd /root/.ssh\n",
        "!cat id_rsa.pub\n",
        "# then, copy key to github account"
      ],
      "execution_count": null,
      "outputs": []
    },
    {
      "cell_type": "code",
      "metadata": {
        "id": "fHW-IZToh9IC"
      },
      "source": [
        "%cd content/drive/MyDrive/git/COMP551/projects/p2\n",
        "!git pull"
      ],
      "execution_count": null,
      "outputs": []
    },
    {
      "cell_type": "markdown",
      "metadata": {
        "id": "kiz1C_Abk05P"
      },
      "source": [
        "# **Mini-Project 2: Optimization and Text Classification**"
      ]
    },
    {
      "cell_type": "markdown",
      "metadata": {
        "id": "9BqMKnAyfYn6"
      },
      "source": [
        "## PART I: Optimization\n"
      ]
    },
    {
      "cell_type": "code",
      "metadata": {
        "id": "jd7AutGbf1c-"
      },
      "source": [
        "import pandas as pd\n",
        "import numpy as np\n",
        "import my_gd\n",
        "#%matplotlib notebook\n",
        "%matplotlib inline\n",
        "import matplotlib.pyplot as plt"
      ],
      "execution_count": 123,
      "outputs": []
    },
    {
      "cell_type": "markdown",
      "metadata": {
        "id": "zLe3OLPRlC5S"
      },
      "source": [
        "### Logistic Regression"
      ]
    },
    {
      "cell_type": "code",
      "metadata": {
        "id": "JjDOlWnafcDy"
      },
      "source": [
        "class LogisticRegression:\n",
        "    \n",
        "    def __init__(self, add_bias=True, learning_rate=.1, epsilon=1e-4, max_iters=1e5, verbose=False):\n",
        "        self.add_bias = add_bias\n",
        "        self.learning_rate = learning_rate\n",
        "        self.epsilon = epsilon                        #to get the tolerance for the norm of gradients \n",
        "        self.max_iters = max_iters                    #maximum number of iteration of gradient descent\n",
        "        self.verbose = verbose\n",
        "        \n",
        "    def fit(self, x, y):\n",
        "        if x.ndim == 1:\n",
        "            x = x[:, None]\n",
        "        if self.add_bias:\n",
        "            N = x.shape[0]\n",
        "            x = np.column_stack([x,np.ones(N)])\n",
        "        N,D = x.shape\n",
        "        self.w = np.zeros(D)\n",
        "        # gradient\n",
        "        g = np.inf \n",
        "        # timestamp\n",
        "        t = 0\n",
        "        # the code snippet below is for gradient descent\n",
        "        while np.linalg.norm(g) > self.epsilon and t < self.max_iters:\n",
        "            g = self.gradient(x, y)\n",
        "            self.w = self.w - self.learning_rate * g \n",
        "            t += 1\n",
        "        \n",
        "        if self.verbose:\n",
        "            print(f'terminated after {t} iterations, with norm of the gradient equal to {np.linalg.norm(g)}')\n",
        "            print(f'the weight found: {self.w}')\n",
        "        return self\n",
        "    \n",
        "    def predict(self, x):\n",
        "        if x.ndim == 1:\n",
        "            x = x[:, None]\n",
        "        Nt = x.shape[0]\n",
        "        if self.add_bias:\n",
        "            x = np.column_stack([x,np.ones(Nt)])\n",
        "        yh = logistic(np.dot(x,self.w))            #predict output\n",
        "        return yh\n",
        "\n",
        "    def gradient(self, x, y):\n",
        "        N,D = x.shape\n",
        "        yh = logistic(np.dot(x, self.w))    # predictions  size N\n",
        "        grad = np.dot(x.T, yh - y)/N        # divide by N because cost is mean over N points\n",
        "        return grad    "
      ],
      "execution_count": 65,
      "outputs": []
    },
    {
      "cell_type": "markdown",
      "metadata": {
        "id": "n9APy9TGmamk"
      },
      "source": [
        "### Cost Function"
      ]
    },
    {
      "cell_type": "code",
      "metadata": {
        "id": "qPdoc_PrmcFp"
      },
      "source": [
        "def cost_fn(y, yh):\n",
        "    J = np.mean(y * np.log1p(np.exp(-yh)) + (1-y) * np.log1p(np.exp(yh)))  #log1p calculates log(1+x) to remove floating point inaccuracies \n",
        "    return J"
      ],
      "execution_count": 66,
      "outputs": []
    },
    {
      "cell_type": "markdown",
      "metadata": {
        "id": "9H02s22qfe29"
      },
      "source": [
        "### 1. Import Data"
      ]
    },
    {
      "cell_type": "code",
      "metadata": {
        "id": "66zsBYlrfNX9"
      },
      "source": [
        "train_df, test_df, val_df = pd.read_csv('data/diabetes/diabetes_train.csv'), pd.read_csv('data/diabetes/diabetes_test.csv'),pd.read_csv('data/diabetes/diabetes_val.csv')\n",
        "x_train, y_train = train_df.iloc[:,:-1].to_numpy(), train_df.iloc[:,-1].to_numpy()\n",
        "x_test, y_test = test_df.iloc[:,:-1].to_numpy(), test_df.iloc[:,-1].to_numpy()\n",
        "x_val, y_val = val_df.iloc[:,:-1].to_numpy(), val_df.iloc[:,-1].to_numpy()"
      ],
      "execution_count": 147,
      "outputs": []
    },
    {
      "cell_type": "code",
      "metadata": {
        "colab": {
          "base_uri": "https://localhost:8080/"
        },
        "id": "J9GECUJX6T_L",
        "outputId": "13b31dfd-aa5e-4d2b-98e1-8e5041bc16cf"
      },
      "source": [
        "x_train.shape"
      ],
      "execution_count": 148,
      "outputs": [
        {
          "output_type": "execute_result",
          "data": {
            "text/plain": [
              "(600, 8)"
            ]
          },
          "metadata": {},
          "execution_count": 148
        }
      ]
    },
    {
      "cell_type": "markdown",
      "metadata": {
        "id": "lSKfVZOJq6Hy"
      },
      "source": [
        "### 2. Learning Rate and Number of Iterations Tuning"
      ]
    },
    {
      "cell_type": "code",
      "metadata": {
        "colab": {
          "base_uri": "https://localhost:8080/",
          "height": 297
        },
        "id": "j0U2_EI3md3n",
        "outputId": "8c3d4904-8678-47f4-dbf0-735b95fed8ea"
      },
      "source": [
        "\n",
        "figure, axis = plt.subplots(2, 1)\n",
        "\n",
        "axis[0].set_title(\"Train Error\")\n",
        "axis[1].set_title(\"Validation Error\")\n",
        "\n",
        "lr_range = np.arange(0.0001, 0.0005, 0.0001)\n",
        "max_iters_range = np.array([10,100,1000,50000,100000])\n",
        "\n",
        "for i, lr in enumerate(lr_range):\n",
        "  acc_train_arr = np.zeros((max_iters_range.size))\n",
        "  acc_val_arr = np.zeros((max_iters_range.size))\n",
        "  for j, max_iters in enumerate(max_iters_range):\n",
        "    log_reg = LogisticRegression(add_bias=True, learning_rate=lr, epsilon=1e-4, max_iters=max_iters, verbose=False)\n",
        "    log_reg.fit(x_train, y_train)\n",
        "\n",
        "    # compute error\n",
        "    acc_train_arr[j] = 1 - cost_fn(log_reg.predict(x_train), y_train)\n",
        "    acc_val_arr[j] = 1 - cost_fn(log_reg.predict(x_val), y_val)\n",
        "\n",
        "  # add plot lines\n",
        "  axis[0].plot(max_iters_range, acc_train_arr, label=\"%0.4f\" % lr)\n",
        "  axis[1].plot(max_iters_range, acc_val_arr, label=\"%0.4f\" % lr)\n",
        "\n",
        "for subplot in axis:\n",
        "  subplot.set_xlabel(\"Number of Iterations\")\n",
        "  subplot.set_ylabel(\"Accuracy\")\n",
        "  subplot.legend()\n",
        "figure.tight_layout()\n",
        "plt.show()\n",
        "\n"
      ],
      "execution_count": 162,
      "outputs": [
        {
          "output_type": "display_data",
          "data": {
            "image/png": "[encoded data removed]",
            "text/plain": [
              "<Figure size 432x288 with 2 Axes>"
            ]
          },
          "metadata": {
            "needs_background": "light"
          }
        }
      ]
    },
    {
      "cell_type": "code",
      "metadata": {
        "id": "KrXMeBbXwVS4",
        "colab": {
          "base_uri": "https://localhost:8080/"
        },
        "outputId": "465e4c7e-26cd-4150-c927-29041457e460"
      },
      "source": [
        "max_iters_range.size"
      ],
      "execution_count": 159,
      "outputs": [
        {
          "output_type": "execute_result",
          "data": {
            "text/plain": [
              "100"
            ]
          },
          "metadata": {},
          "execution_count": 159
        }
      ]
    },
    {
      "cell_type": "code",
      "metadata": {
        "id": "BgtKahZAQYt3"
      },
      "source": [
        ""
      ],
      "execution_count": null,
      "outputs": []
    }
  ]
}